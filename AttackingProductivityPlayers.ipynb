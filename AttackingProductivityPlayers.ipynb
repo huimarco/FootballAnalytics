{
  "nbformat": 4,
  "nbformat_minor": 0,
  "metadata": {
    "colab": {
      "provenance": [],
      "collapsed_sections": [
        "KnPRZktWZNK9",
        "LaFfywSe-ltl",
        "8wLMzloXPZ7v",
        "vZnjxJ01Yz1A",
        "rx1C_ixN_nke"
      ],
      "authorship_tag": "ABX9TyMiCx+0zfknkoXHmn0U7Fqz"
    },
    "kernelspec": {
      "name": "python3",
      "display_name": "Python 3"
    },
    "language_info": {
      "name": "python"
    }
  },
  "cells": [
    {
      "cell_type": "markdown",
      "source": [
        "# **Attacking Productivity in Premier League Players**\n",
        "The following analysis looks at the goals (G), assists (A), expected goals (xG), and expected assisted goals (xAG) to better understand the varying attacking profiles of premier league players in the 2022-2023 season.\n",
        "<br><br>\n",
        "To focus on key attacking players, I filter the dataset down to the 190 players who have more than 3 attacking contributions (goals + assists). Additionally, statistics are calculated by player AND club, making it possible for some players to have two separate set of metrics. For example, January transfer Leandro Trossard has an xG for his performance at Brighton and at Arsenal."
      ],
      "metadata": {
        "id": "E0wpAldgdI4m"
      }
    },
    {
      "cell_type": "markdown",
      "source": [
        "## Some context\n",
        "Before we begin, lets quickly discuss the last two metrics."
      ],
      "metadata": {
        "id": "t2vcRwEnn6Ch"
      }
    },
    {
      "cell_type": "markdown",
      "source": [
        "\n",
        "#### **What is xG?**\n",
        "xG, or expected assists, is the probability that a shot will result in a goal based on the characteristics of that shot and the events leading up to it. Some of these characteristics/variables include:\n",
        "\n",
        "> **Location of shooter**: How far was it from the goal and at what angle on the pitch? <br>\n",
        "> **Body part**: Was it a header or off the shooter's foot? <br>\n",
        "> **Type of pass**: Was it from a through ball, cross, set piece, etc? <br>\n",
        "> **Type of attack**: Was it from an established possession? Was it off a rebound? Did the defense have time to get in position? Did it follow a dribble?\n",
        "\n",
        "xG is a valuable tool that enables us to discern variations in the quality of goalscoring chances. While a tap-in goal and a long-range volley goal will appear the same on the scoresheet, their respective xG will differ significantly.\n",
        "<br><br>\n",
        "To exclude penalties, some analysts may use npxG instead. Penalties have an xG of 0.79."
      ],
      "metadata": {
        "id": "bcDE68Duoa89"
      }
    },
    {
      "cell_type": "markdown",
      "source": [
        "#### **What is xA and xAG? How do they differ?** \n",
        "xA, or expected assists, is the likelihood that a given completed pass will become a goal assist. This statistic assigns a probability to all passes based on the type of the pass, the location on the pitch, the phase of play, and the distance covered. Players receive xA for every completed pass regardless of whether a shot occurred or not.\n",
        "<br><br>\n",
        "In order to just isolate the xG on passes that assist a shot, there's expected assisted goals (xAG). Players receive xAG only when a shot is taken after a completed pass.\n",
        "<br><br>\n",
        "xAG is a good indication of a player's ability to set up scoring chances without having to rely on the actual result of the shot or the shooter's luck/ability. For our purposes of analysing direct goal contributions, I prefer xAG over xA."
      ],
      "metadata": {
        "id": "pVHotbg9y2BU"
      }
    },
    {
      "cell_type": "markdown",
      "source": [
        "## Data preparation"
      ],
      "metadata": {
        "id": "KnPRZktWZNK9"
      }
    },
    {
      "cell_type": "code",
      "execution_count": 1,
      "metadata": {
        "id": "SuNJFHdoG3XM"
      },
      "outputs": [],
      "source": [
        "# import libaries\n",
        "import pandas as pd\n",
        "import seaborn as sns\n",
        "import warnings\n",
        "import plotly.express as px\n",
        "import plotly.graph_objects as go\n",
        "import urllib\n",
        "from bs4 import BeautifulSoup\n",
        "from google.colab import files\n",
        "\n",
        "# ignore warnings\n",
        "warnings.filterwarnings('ignore')"
      ]
    },
    {
      "cell_type": "code",
      "source": [
        "def xStatsHelper(id):\n",
        "  # locate and read table contents\n",
        "  source = urllib.request.urlopen(f'https://fbref.com/en/squads/{id}').read()\n",
        "  soup = BeautifulSoup(source,'lxml')\n",
        "  table = soup.find_all('table')[0]\n",
        "  df = pd.read_html(str(table),flavor='bs4',header=0,skiprows=1)[0]\n",
        "\n",
        "  # drop last 2 rows\n",
        "  df = df[:-2]\n",
        "\n",
        "  # create column for club\n",
        "  start_index = id.rfind('/') + 1\n",
        "  end_index = id.rfind('-Stats')\n",
        "  df['Club'] = id[start_index:end_index]\n",
        "\n",
        "  # return data of players with minutes played and matching position\n",
        "  return df\n",
        "\n",
        "def xStats(id_list):\n",
        "    dfs = [xStatsHelper(i) for i in id_list]\n",
        "    df = pd.concat(dfs, ignore_index=True)\n",
        "    return df"
      ],
      "metadata": {
        "id": "jdcNrKsdHCiW"
      },
      "execution_count": 2,
      "outputs": []
    },
    {
      "cell_type": "code",
      "source": [
        "# list of URLs to scrape\n",
        "club_list = ['b8fd03ef/Manchester-City-Stats','18bb7c10/Arsenal-Stats',\n",
        "             '19538871/Manchester-United-Stats','b2b47a98/Newcastle-United-Stats',\n",
        "             '822bd0ba/Liverpool-Stats','d07537b9/Brighton-and-Hove-Albion-Stats',\n",
        "             '8602292d/Aston-Villa-Stats','361ca564/Tottenham-Hotspur-Stats',\n",
        "             'cd051869/Brentford-Stats','fd962109/Fulham-Stats',\n",
        "             '47c64c55/Crystal-Palace-Stats','cff3d9bb/Chelsea-Stats',\n",
        "             '8cec06e1/Wolverhampton-Wanderers-Stats','7c21e445/West-Ham-United-Stats',\n",
        "             '4ba7cbea/Bournemouth-Stats','e4a775cb/Nottingham-Forest-Stats',\n",
        "             'd3fd31cc/Everton-Stats','a2d435b3/Leicester-City-Stats',\n",
        "             '5bfb9659/Leeds-United-Stats','33c895d4/Southampton-Stats']\n",
        "\n",
        "# load data\n",
        "df = xStats(club_list)"
      ],
      "metadata": {
        "id": "aO3eioPKIQyi"
      },
      "execution_count": 3,
      "outputs": []
    },
    {
      "cell_type": "code",
      "source": [
        "# rename columns\n",
        "df.columns = df.columns.str.replace('.1', ' Per 90')\n",
        "\n",
        "# clean Nation and Club columns \n",
        "df['Nation'] = df['Nation'].str[-3:]\n",
        "df['Club'] = df['Club'].str.replace('-',' ')\n",
        "\n",
        "# filter players with matches played\n",
        "df = df[df['MP'] > 0]\n",
        "\n",
        "# filter players with 3+ goal contributions\n",
        "df_3ga = df[df['G+A']>=3]"
      ],
      "metadata": {
        "id": "bETJiUmzLM-i"
      },
      "execution_count": 4,
      "outputs": []
    },
    {
      "cell_type": "code",
      "source": [
        "# dictionary of club colours\n",
        "color_mapping = {\n",
        "    'Manchester City':'#6CABDD','Arsenal':'#EF0107',\n",
        "    'Manchester United':'#EF3829','Newcastle United':'#BBBCBC',\n",
        "    'Liverpool':'#C8102E','Brighton and Hove Albion':'#0057B8',\n",
        "    'Aston Villa':'#670E36','Tottenham Hotspur':'#FFFFFF',\n",
        "    'Brentford':'#E30613','Fulham':'#FFFFFF',\n",
        "    'Crystal Palace':'#A7A5A6','Chelsea':'#034694',\n",
        "    'Wolverhampton Wanderers':'#F6B000','West Ham United':'#1BB1E7',\n",
        "    'Bournemouth':'#A89968','Nottingham Forest':'#E53233',\n",
        "    'Everton':'#003399','Leicester City':'#003090',\n",
        "    'Leeds United':'#FFCD00','Southhampton':'#0DB14B'\n",
        "}"
      ],
      "metadata": {
        "id": "9ceRlCoCDzie"
      },
      "execution_count": 5,
      "outputs": []
    },
    {
      "cell_type": "code",
      "source": [
        "def plotExpectedStats(df,x_input,y_input,line,axisnames):\n",
        "  # create scatter pot\n",
        "  fig = px.scatter(df,x=x_input,y=y_input,title=f'{axisnames[0]} vs {axisnames[1]}')\n",
        "\n",
        "  # set theme\n",
        "  fig.update_layout(template='plotly_dark')\n",
        "\n",
        "  # edit hover text and marker colour\n",
        "  fig.update_traces(\n",
        "      hovertemplate='<b>Player:</b> %{customdata[0]}<br><b>Club:</b> %{customdata[1]}<br><b>' + x_input + ':</b> %{x}<br><b>' + y_input + ':</b> %{y}',\n",
        "      customdata=df[['Player','Club']].values,\n",
        "      marker=dict(color=[color_mapping.get(club,'gray') for club in df['Club']])\n",
        "  )\n",
        "\n",
        "  # add dotted y=x line\n",
        "  if line:\n",
        "    fig.add_shape(\n",
        "        type='line', \n",
        "        x0=df[x_input].min(), y0=df[x_input].min(), \n",
        "        x1=df[x_input].max(), y1=df[x_input].max(),\n",
        "        line=dict(dash='dot', color='gray')\n",
        "    )\n",
        "\n",
        "  # set x-axis and y-axis labels\n",
        "  fig.update_xaxes(title=axisnames[0])\n",
        "  fig.update_yaxes(title=axisnames[1])\n",
        "\n",
        "  # return fig\n",
        "  return fig"
      ],
      "metadata": {
        "id": "URCzNxUZJVLT"
      },
      "execution_count": 50,
      "outputs": []
    },
    {
      "cell_type": "markdown",
      "source": [
        "## xG vs xAG: Who were the top attacking threats over the season?\n",
        "\n",
        "xG and xAG, when considered together, serve as a valuable measure of a player's total attacking contribution, encompassing both their goal-scoring prowess and their ability to create scoring opportunities for their teammates."
      ],
      "metadata": {
        "id": "LaFfywSe-ltl"
      }
    },
    {
      "cell_type": "code",
      "source": [
        "plotExpectedStats(df_3ga,'xG','xAG',False,['Expected Goals','Expected Assisted Goals'])"
      ],
      "metadata": {
        "colab": {
          "base_uri": "https://localhost:8080/",
          "height": 542
        },
        "id": "HdsrOfH9J2CQ",
        "outputId": "d57558d7-3c0a-4350-fce6-402eb870e80b"
      },
      "execution_count": 51,
      "outputs": [
        {
          "output_type": "display_data",
          "data": {
            "text/html": [
              "<html>\n",
              "<head><meta charset=\"utf-8\" /></head>\n",
              "<body>\n",
              "    <div>            <script src=\"https://cdnjs.cloudflare.com/ajax/libs/mathjax/2.7.5/MathJax.js?config=TeX-AMS-MML_SVG\"></script><script type=\"text/javascript\">if (window.MathJax && window.MathJax.Hub && window.MathJax.Hub.Config) {window.MathJax.Hub.Config({SVG: {font: \"STIX-Web\"}});}</script>                <script type=\"text/javascript\">window.PlotlyConfig = {MathJaxConfig: 'local'};</script>\n",
              "        <script src=\"https://cdn.plot.ly/plotly-2.18.2.min.js\"></script>                <div id=\"83dd7d88-3467-42d3-b16a-230b1b7d6cbe\" class=\"plotly-graph-div\" style=\"height:525px; width:100%;\"></div>            <script type=\"text/javascript\">                                    window.PLOTLYENV=window.PLOTLYENV || {};                                    if (document.getElementById(\"83dd7d88-3467-42d3-b16a-230b1b7d6cbe\")) {                    Plotly.newPlot(                        \"83dd7d88-3467-42d3-b16a-230b1b7d6cbe\",                        [{\"hovertemplate\":\"<b>Player:</b> %{customdata[0]}<br><b>Club:</b> %{customdata[1]}<br><b>xG:</b> %{x}<br><b>xAG:</b> %{y}\",\"legendgroup\":\"\",\"marker\":{\"color\":[\"#6CABDD\",\"#6CABDD\",\"#6CABDD\",\"#6CABDD\",\"#6CABDD\",\"#6CABDD\",\"#6CABDD\",\"#6CABDD\",\"#6CABDD\",\"#6CABDD\",\"#6CABDD\",\"#EF0107\",\"#EF0107\",\"#EF0107\",\"#EF0107\",\"#EF0107\",\"#EF0107\",\"#EF0107\",\"#EF0107\",\"#EF0107\",\"#EF0107\",\"#EF0107\",\"#EF0107\",\"#EF0107\",\"#EF0107\",\"#EF3829\",\"#EF3829\",\"#EF3829\",\"#EF3829\",\"#EF3829\",\"#EF3829\",\"#EF3829\",\"#EF3829\",\"#EF3829\",\"#EF3829\",\"#EF3829\",\"#BBBCBC\",\"#BBBCBC\",\"#BBBCBC\",\"#BBBCBC\",\"#BBBCBC\",\"#BBBCBC\",\"#BBBCBC\",\"#BBBCBC\",\"#BBBCBC\",\"#BBBCBC\",\"#BBBCBC\",\"#C8102E\",\"#C8102E\",\"#C8102E\",\"#C8102E\",\"#C8102E\",\"#C8102E\",\"#C8102E\",\"#C8102E\",\"#C8102E\",\"#C8102E\",\"#C8102E\",\"#C8102E\",\"#0057B8\",\"#0057B8\",\"#0057B8\",\"#0057B8\",\"#0057B8\",\"#0057B8\",\"#0057B8\",\"#0057B8\",\"#0057B8\",\"#0057B8\",\"#0057B8\",\"#670E36\",\"#670E36\",\"#670E36\",\"#670E36\",\"#670E36\",\"#670E36\",\"#670E36\",\"#670E36\",\"#670E36\",\"#FFFFFF\",\"#FFFFFF\",\"#FFFFFF\",\"#FFFFFF\",\"#FFFFFF\",\"#FFFFFF\",\"#FFFFFF\",\"#FFFFFF\",\"#FFFFFF\",\"#FFFFFF\",\"#FFFFFF\",\"#E30613\",\"#E30613\",\"#E30613\",\"#E30613\",\"#E30613\",\"#E30613\",\"#E30613\",\"#E30613\",\"#E30613\",\"#FFFFFF\",\"#FFFFFF\",\"#FFFFFF\",\"#FFFFFF\",\"#FFFFFF\",\"#FFFFFF\",\"#FFFFFF\",\"#FFFFFF\",\"#FFFFFF\",\"#FFFFFF\",\"#FFFFFF\",\"#FFFFFF\",\"#A7A5A6\",\"#A7A5A6\",\"#A7A5A6\",\"#A7A5A6\",\"#A7A5A6\",\"#A7A5A6\",\"#A7A5A6\",\"#034694\",\"#034694\",\"#034694\",\"#034694\",\"#034694\",\"#034694\",\"#034694\",\"#034694\",\"#034694\",\"#F6B000\",\"#F6B000\",\"#F6B000\",\"#F6B000\",\"#1BB1E7\",\"#1BB1E7\",\"#1BB1E7\",\"#1BB1E7\",\"#1BB1E7\",\"#1BB1E7\",\"#1BB1E7\",\"#1BB1E7\",\"#1BB1E7\",\"#A89968\",\"#A89968\",\"#A89968\",\"#A89968\",\"#A89968\",\"#A89968\",\"#A89968\",\"#E53233\",\"#E53233\",\"#E53233\",\"#E53233\",\"#E53233\",\"#003399\",\"#003399\",\"#003399\",\"#003399\",\"#003399\",\"#003399\",\"#003399\",\"#003399\",\"#003090\",\"#003090\",\"#003090\",\"#003090\",\"#003090\",\"#003090\",\"#003090\",\"#003090\",\"#003090\",\"#FFCD00\",\"#FFCD00\",\"#FFCD00\",\"#FFCD00\",\"#FFCD00\",\"#FFCD00\",\"#FFCD00\",\"#FFCD00\",\"#FFCD00\",\"#FFCD00\",\"#FFCD00\",\"#FFCD00\",\"gray\",\"gray\",\"gray\",\"gray\",\"gray\",\"gray\",\"gray\",\"gray\",\"gray\"],\"symbol\":\"circle\"},\"mode\":\"markers\",\"name\":\"\",\"orientation\":\"v\",\"showlegend\":false,\"x\":[4.6,28.4,5.6,7.5,2.2,4.6,5.5,5.9,1.0,0.8,7.0,5.1,11.2,10.0,1.3,4.7,9.3,2.2,0.9,1.4,14.0,1.8,8.2,0.8,1.1,9.3,15.4,1.1,5.0,2.5,3.4,6.6,4.2,2.0,6.2,3.0,0.9,4.9,2.8,7.0,7.1,8.0,3.6,17.5,8.2,3.3,1.6,21.7,2.4,2.6,1.3,12.1,2.1,6.2,5.5,6.5,1.2,2.5,0.6,5.4,12.1,8.1,1.7,8.1,9.4,4.4,0.9,5.3,4.0,4.5,16.5,1.2,2.8,5.0,2.4,6.3,5.3,0.6,5.3,21.5,2.0,10.1,1.6,1.0,2.6,2.6,1.7,2.2,1.8,3.3,3.2,2.2,9.8,18.7,3.0,2.4,1.6,5.6,1.5,2.9,1.9,7.3,0.7,3.9,3.4,14.9,2.0,3.3,0.5,1.7,1.2,1.4,2.9,3.2,7.3,3.2,6.5,4.2,11.6,6.2,0.9,2.0,2.5,1.8,1.4,4.9,0.6,5.2,3.9,1.4,2.9,2.4,8.9,4.0,4.4,7.0,6.6,2.2,2.5,3.0,2.6,4.9,9.1,3.1,3.6,4.4,2.2,6.0,8.6,6.6,1.5,1.9,2.5,3.0,3.5,6.2,2.4,5.8,3.3,1.3,2.2,8.9,1.2,8.7,2.4,2.5,6.7,3.5,7.1,4.7,2.1,3.9,1.4,8.1,3.2,0.8,8.6,1.8,3.7,2.9,0.7,5.7,6.6,1.3,2.4,2.1,2.2,1.9,1.7,1.0],\"xaxis\":\"x\",\"y\":[4.1,5.3,13.7,3.3,3.3,7.0,7.0,4.7,1.4,0.9,1.8,0.3,8.5,8.1,3.2,5.2,9.1,1.5,1.2,1.4,3.9,4.7,1.3,2.5,1.4,16.7,3.4,3.6,4.2,1.9,3.1,2.9,5.0,2.9,1.4,1.0,12.4,3.3,4.0,6.0,2.4,3.2,3.3,2.7,2.2,2.8,4.6,7.7,11.5,1.2,6.1,5.4,3.6,2.7,2.5,2.1,1.1,1.5,1.6,10.9,4.3,8.4,5.4,6.4,4.3,2.1,1.0,0.7,1.7,1.1,3.8,1.4,4.4,5.1,2.6,5.7,4.8,3.0,1.2,7.0,3.1,6.5,1.2,2.5,6.1,4.7,0.6,0.8,3.0,2.2,1.3,5.0,7.6,5.1,1.0,1.4,3.1,2.5,1.5,0.4,4.1,5.2,1.9,1.7,4.4,2.3,0.9,0.8,1.5,0.7,0.4,1.9,8.7,3.2,4.3,1.4,2.7,1.2,3.7,4.6,0.4,3.0,2.3,2.1,2.2,0.5,2.2,1.6,2.5,3.7,1.1,3.2,7.4,1.9,2.5,4.5,1.3,1.7,0.7,1.0,2.3,3.2,3.9,2.9,2.5,0.3,1.0,8.2,3.2,1.1,0.7,0.6,6.1,2.6,6.1,3.8,2.2,0.8,0.6,0.7,2.6,3.1,0.6,9.3,3.3,4.7,1.4,2.8,4.0,5.1,2.9,4.2,2.4,1.8,2.0,1.0,1.0,2.2,0.4,1.6,1.1,6.2,2.8,1.9,2.2,1.3,2.0,0.7,1.3,0.8],\"yaxis\":\"y\",\"type\":\"scatter\",\"customdata\":[[\"Rodri\",\"Manchester City\"],[\"Erling Haaland\",\"Manchester City\"],[\"Kevin De Bruyne\",\"Manchester City\"],[\"\\u0130lkay G\\u00fcndo\\u011fan\",\"Manchester City\"],[\"Bernardo Silva\",\"Manchester City\"],[\"Jack Grealish\",\"Manchester City\"],[\"Riyad Mahrez\",\"Manchester City\"],[\"Phil Foden\",\"Manchester City\"],[\"John Stones\",\"Manchester City\"],[\"Jo\\u00e3o Cancelo\",\"Manchester City\"],[\"Juli\\u00e1n \\u00c1lvarez\",\"Manchester City\"],[\"Gabriel Dos Santos\",\"Arsenal\"],[\"Bukayo Saka\",\"Arsenal\"],[\"Martin \\u00d8degaard\",\"Arsenal\"],[\"Ben White\",\"Arsenal\"],[\"Granit Xhaka\",\"Arsenal\"],[\"Martinelli\",\"Arsenal\"],[\"Thomas Partey\",\"Arsenal\"],[\"William Saliba\",\"Arsenal\"],[\"Oleksandr Zinchenko\",\"Arsenal\"],[\"Gabriel Jesus\",\"Arsenal\"],[\"Leandro Trossard\",\"Arsenal\"],[\"Eddie Nketiah\",\"Arsenal\"],[\"Fabio Vieira\",\"Arsenal\"],[\"Reiss Nelson\",\"Arsenal\"],[\"Bruno Fernandes\",\"Manchester United\"],[\"Marcus Rashford\",\"Manchester United\"],[\"Luke Shaw\",\"Manchester United\"],[\"Christian Eriksen\",\"Manchester United\"],[\"Diogo Dalot\",\"Manchester United\"],[\"Casemiro\",\"Manchester United\"],[\"Antony\",\"Manchester United\"],[\"Jadon Sancho\",\"Manchester United\"],[\"Fred\",\"Manchester United\"],[\"Anthony Martial\",\"Manchester United\"],[\"Alejandro Garnacho\",\"Manchester United\"],[\"Kieran Trippier\",\"Newcastle United\"],[\"Fabian Sch\\u00e4r\",\"Newcastle United\"],[\"Bruno Guimar\\u00e3es\",\"Newcastle United\"],[\"Joe Willock\",\"Newcastle United\"],[\"Joelinton\",\"Newcastle United\"],[\"Miguel Almir\\u00f3n\",\"Newcastle United\"],[\"Sean Longstaff\",\"Newcastle United\"],[\"Callum Wilson\",\"Newcastle United\"],[\"Alexander Isak\",\"Newcastle United\"],[\"Jacob Murphy\",\"Newcastle United\"],[\"Allan Saint-Maximin\",\"Newcastle United\"],[\"Mohamed Salah\",\"Liverpool\"],[\"Trent Alexander-Arnold\",\"Liverpool\"],[\"Virgil van Dijk\",\"Liverpool\"],[\"Andrew Robertson\",\"Liverpool\"],[\"Darwin N\\u00fa\\u00f1ez\",\"Liverpool\"],[\"Harvey Elliott\",\"Liverpool\"],[\"Cody Gakpo\",\"Liverpool\"],[\"Roberto Firmino\",\"Liverpool\"],[\"Diogo Jota\",\"Liverpool\"],[\"Curtis Jones\",\"Liverpool\"],[\"Luis D\\u00edaz\",\"Liverpool\"],[\"Kostas Tsimikas\",\"Liverpool\"],[\"Pascal Gro\\u00df\",\"Brighton and Hove Albion\"],[\"Alexis Mac Allister\",\"Brighton and Hove Albion\"],[\"Solly March\",\"Brighton and Hove Albion\"],[\"Pervis Estupi\\u00f1\\u00e1n\",\"Brighton and Hove Albion\"],[\"Kaoru Mitoma\",\"Brighton and Hove Albion\"],[\"Danny Welbeck\",\"Brighton and Hove Albion\"],[\"Leandro Trossard\",\"Brighton and Hove Albion\"],[\"Adam Lallana\",\"Brighton and Hove Albion\"],[\"Evan Ferguson\",\"Brighton and Hove Albion\"],[\"Julio C\\u00e9sar Enciso\",\"Brighton and Hove Albion\"],[\"Deniz Undav\",\"Brighton and Hove Albion\"],[\"Ollie Watkins\",\"Aston Villa\"],[\"Tyrone Mings\",\"Aston Villa\"],[\"Douglas Luiz\",\"Aston Villa\"],[\"Jacob Ramsey\",\"Aston Villa\"],[\"John McGinn\",\"Aston Villa\"],[\"Emi Buend\\u00eda\",\"Aston Villa\"],[\"Leon Bailey\",\"Aston Villa\"],[\"\\u00c1lex Moreno\",\"Aston Villa\"],[\"Danny Ings\",\"Aston Villa\"],[\"Harry Kane\",\"Tottenham Hotspur\"],[\"Pierre H\\u00f8jbjerg\",\"Tottenham Hotspur\"],[\"Son Heung-min\",\"Tottenham Hotspur\"],[\"Eric Dier\",\"Tottenham Hotspur\"],[\"Ben Davies\",\"Tottenham Hotspur\"],[\"Ivan Peri\\u0161i\\u0107\",\"Tottenham Hotspur\"],[\"Dejan Kulusevski\",\"Tottenham Hotspur\"],[\"Emerson\",\"Tottenham Hotspur\"],[\"Rodrigo Bentancur\",\"Tottenham Hotspur\"],[\"Pedro Porro\",\"Tottenham Hotspur\"],[\"Richarlison\",\"Tottenham Hotspur\"],[\"Ben Mee\",\"Brentford\"],[\"Mathias Jensen\",\"Brentford\"],[\"Bryan Mbeumo\",\"Brentford\"],[\"Ivan Toney\",\"Brentford\"],[\"Ethan Pinnock\",\"Brentford\"],[\"Vitaly Janelt\",\"Brentford\"],[\"Christian N\\u00f8rgaard\",\"Brentford\"],[\"Yoane Wissa\",\"Brentford\"],[\"Josh Dasilva\",\"Brentford\"],[\"Jo\\u00e3o Palhinha\",\"Fulham\"],[\"Harrison Reed\",\"Fulham\"],[\"Andreas Pereira\",\"Fulham\"],[\"Kenny Tete\",\"Fulham\"],[\"Bobby Reid\",\"Fulham\"],[\"Willian\",\"Fulham\"],[\"Aleksandar Mitrovi\\u0107\",\"Fulham\"],[\"Harry Wilson\",\"Fulham\"],[\"Carlos Vin\\u00edcius\",\"Fulham\"],[\"Neeskens Kebano\",\"Fulham\"],[\"Daniel James\",\"Fulham\"],[\"Manor Solomon\",\"Fulham\"],[\"Cheick Doucour\\u00e9\",\"Crystal Palace\"],[\"Michael Olise\",\"Crystal Palace\"],[\"Jordan Ayew\",\"Crystal Palace\"],[\"Eberechi Eze\",\"Crystal Palace\"],[\"Jeffrey Schlupp\",\"Crystal Palace\"],[\"Wilfried Zaha\",\"Crystal Palace\"],[\"Odsonne \\u00c9douard\",\"Crystal Palace\"],[\"Kai Havertz\",\"Chelsea\"],[\"Raheem Sterling\",\"Chelsea\"],[\"Kalidou Koulibaly\",\"Chelsea\"],[\"Mason Mount\",\"Chelsea\"],[\"Conor Gallagher\",\"Chelsea\"],[\"Mateo Kova\\u010di\\u0107\",\"Chelsea\"],[\"Ben Chilwell\",\"Chelsea\"],[\"Jo\\u00e3o F\\u00e9lix\",\"Chelsea\"],[\"Hakim Ziyech\",\"Chelsea\"],[\"R\\u00faben Neves\",\"Wolverhampton Wanderers\"],[\"Daniel Podence\",\"Wolverhampton Wanderers\"],[\"Adama Traor\\u00e9\",\"Wolverhampton Wanderers\"],[\"Hwang Hee-chan\",\"Wolverhampton Wanderers\"],[\"Declan Rice\",\"West Ham United\"],[\"Jarrod Bowen\",\"West Ham United\"],[\"Tom\\u00e1\\u0161 Sou\\u010dek\",\"West Ham United\"],[\"Lucas Paquet\\u00e1\",\"West Ham United\"],[\"Sa\\u00efd Benrahma\",\"West Ham United\"],[\"Michail Antonio\",\"West Ham United\"],[\"Pablo Fornals\",\"West Ham United\"],[\"Gianluca Scamacca\",\"West Ham United\"],[\"Danny Ings\",\"West Ham United\"],[\"Jefferson Lerma\",\"Bournemouth\"],[\"Philip Billing\",\"Bournemouth\"],[\"Dominic Solanke\",\"Bournemouth\"],[\"Marcus Tavernier\",\"Bournemouth\"],[\"Dango Ouattara\",\"Bournemouth\"],[\"Kieffer Moore\",\"Bournemouth\"],[\"Jaidon Anthony\",\"Bournemouth\"],[\"Morgan Gibbs-White\",\"Nottingham Forest\"],[\"Brennan Johnson\",\"Nottingham Forest\"],[\"Taiwo Awoniyi\",\"Nottingham Forest\"],[\"Danilo\",\"Nottingham Forest\"],[\"Emmanuel Dennis\",\"Nottingham Forest\"],[\"Alex Iwobi\",\"Everton\"],[\"Amadou Onana\",\"Everton\"],[\"Dwight McNeil\",\"Everton\"],[\"Demarai Gray\",\"Everton\"],[\"Abdoulaye Doucour\\u00e9\",\"Everton\"],[\"Dominic Calvert-Lewin\",\"Everton\"],[\"Anthony Gordon\",\"Everton\"],[\"Michael Keane\",\"Everton\"],[\"Timothy Castagne\",\"Leicester City\"],[\"Harvey Barnes\",\"Leicester City\"],[\"Wout Faes\",\"Leicester City\"],[\"James Maddison\",\"Leicester City\"],[\"Kiernan Dewsbury-Hall\",\"Leicester City\"],[\"Youri Tielemans\",\"Leicester City\"],[\"Jamie Vardy\",\"Leicester City\"],[\"Patson Daka\",\"Leicester City\"],[\"Kelechi Iheanacho\",\"Leicester City\"],[\"Jack Harrison\",\"Leeds United\"],[\"Marc Roca\",\"Leeds United\"],[\"Brenden Aaronson\",\"Leeds United\"],[\"Pascal Struijk\",\"Leeds United\"],[\"Rodrigo\",\"Leeds United\"],[\"Luke Ayling\",\"Leeds United\"],[\"Rasmus Nissen\",\"Leeds United\"],[\"Patrick Bamford\",\"Leeds United\"],[\"Degnand Gnonto\",\"Leeds United\"],[\"Luis Sinisterra\",\"Leeds United\"],[\"Crysencio Summerville\",\"Leeds United\"],[\"Sam Greenwood\",\"Leeds United\"],[\"James Ward-Prowse\",\"Southampton\"],[\"Che Adams\",\"Southampton\"],[\"Romain Perraud\",\"Southampton\"],[\"Stuart Armstrong\",\"Southampton\"],[\"Adam Armstrong\",\"Southampton\"],[\"Theo Walcott\",\"Southampton\"],[\"Carlos Alcaraz\",\"Southampton\"],[\"Kamaldeen Sulemana\",\"Southampton\"],[\"Sekou Mara\",\"Southampton\"]]}],                        {\"template\":{\"data\":{\"barpolar\":[{\"marker\":{\"line\":{\"color\":\"rgb(17,17,17)\",\"width\":0.5},\"pattern\":{\"fillmode\":\"overlay\",\"size\":10,\"solidity\":0.2}},\"type\":\"barpolar\"}],\"bar\":[{\"error_x\":{\"color\":\"#f2f5fa\"},\"error_y\":{\"color\":\"#f2f5fa\"},\"marker\":{\"line\":{\"color\":\"rgb(17,17,17)\",\"width\":0.5},\"pattern\":{\"fillmode\":\"overlay\",\"size\":10,\"solidity\":0.2}},\"type\":\"bar\"}],\"carpet\":[{\"aaxis\":{\"endlinecolor\":\"#A2B1C6\",\"gridcolor\":\"#506784\",\"linecolor\":\"#506784\",\"minorgridcolor\":\"#506784\",\"startlinecolor\":\"#A2B1C6\"},\"baxis\":{\"endlinecolor\":\"#A2B1C6\",\"gridcolor\":\"#506784\",\"linecolor\":\"#506784\",\"minorgridcolor\":\"#506784\",\"startlinecolor\":\"#A2B1C6\"},\"type\":\"carpet\"}],\"choropleth\":[{\"colorbar\":{\"outlinewidth\":0,\"ticks\":\"\"},\"type\":\"choropleth\"}],\"contourcarpet\":[{\"colorbar\":{\"outlinewidth\":0,\"ticks\":\"\"},\"type\":\"contourcarpet\"}],\"contour\":[{\"colorbar\":{\"outlinewidth\":0,\"ticks\":\"\"},\"colorscale\":[[0.0,\"#0d0887\"],[0.1111111111111111,\"#46039f\"],[0.2222222222222222,\"#7201a8\"],[0.3333333333333333,\"#9c179e\"],[0.4444444444444444,\"#bd3786\"],[0.5555555555555556,\"#d8576b\"],[0.6666666666666666,\"#ed7953\"],[0.7777777777777778,\"#fb9f3a\"],[0.8888888888888888,\"#fdca26\"],[1.0,\"#f0f921\"]],\"type\":\"contour\"}],\"heatmapgl\":[{\"colorbar\":{\"outlinewidth\":0,\"ticks\":\"\"},\"colorscale\":[[0.0,\"#0d0887\"],[0.1111111111111111,\"#46039f\"],[0.2222222222222222,\"#7201a8\"],[0.3333333333333333,\"#9c179e\"],[0.4444444444444444,\"#bd3786\"],[0.5555555555555556,\"#d8576b\"],[0.6666666666666666,\"#ed7953\"],[0.7777777777777778,\"#fb9f3a\"],[0.8888888888888888,\"#fdca26\"],[1.0,\"#f0f921\"]],\"type\":\"heatmapgl\"}],\"heatmap\":[{\"colorbar\":{\"outlinewidth\":0,\"ticks\":\"\"},\"colorscale\":[[0.0,\"#0d0887\"],[0.1111111111111111,\"#46039f\"],[0.2222222222222222,\"#7201a8\"],[0.3333333333333333,\"#9c179e\"],[0.4444444444444444,\"#bd3786\"],[0.5555555555555556,\"#d8576b\"],[0.6666666666666666,\"#ed7953\"],[0.7777777777777778,\"#fb9f3a\"],[0.8888888888888888,\"#fdca26\"],[1.0,\"#f0f921\"]],\"type\":\"heatmap\"}],\"histogram2dcontour\":[{\"colorbar\":{\"outlinewidth\":0,\"ticks\":\"\"},\"colorscale\":[[0.0,\"#0d0887\"],[0.1111111111111111,\"#46039f\"],[0.2222222222222222,\"#7201a8\"],[0.3333333333333333,\"#9c179e\"],[0.4444444444444444,\"#bd3786\"],[0.5555555555555556,\"#d8576b\"],[0.6666666666666666,\"#ed7953\"],[0.7777777777777778,\"#fb9f3a\"],[0.8888888888888888,\"#fdca26\"],[1.0,\"#f0f921\"]],\"type\":\"histogram2dcontour\"}],\"histogram2d\":[{\"colorbar\":{\"outlinewidth\":0,\"ticks\":\"\"},\"colorscale\":[[0.0,\"#0d0887\"],[0.1111111111111111,\"#46039f\"],[0.2222222222222222,\"#7201a8\"],[0.3333333333333333,\"#9c179e\"],[0.4444444444444444,\"#bd3786\"],[0.5555555555555556,\"#d8576b\"],[0.6666666666666666,\"#ed7953\"],[0.7777777777777778,\"#fb9f3a\"],[0.8888888888888888,\"#fdca26\"],[1.0,\"#f0f921\"]],\"type\":\"histogram2d\"}],\"histogram\":[{\"marker\":{\"pattern\":{\"fillmode\":\"overlay\",\"size\":10,\"solidity\":0.2}},\"type\":\"histogram\"}],\"mesh3d\":[{\"colorbar\":{\"outlinewidth\":0,\"ticks\":\"\"},\"type\":\"mesh3d\"}],\"parcoords\":[{\"line\":{\"colorbar\":{\"outlinewidth\":0,\"ticks\":\"\"}},\"type\":\"parcoords\"}],\"pie\":[{\"automargin\":true,\"type\":\"pie\"}],\"scatter3d\":[{\"line\":{\"colorbar\":{\"outlinewidth\":0,\"ticks\":\"\"}},\"marker\":{\"colorbar\":{\"outlinewidth\":0,\"ticks\":\"\"}},\"type\":\"scatter3d\"}],\"scattercarpet\":[{\"marker\":{\"colorbar\":{\"outlinewidth\":0,\"ticks\":\"\"}},\"type\":\"scattercarpet\"}],\"scattergeo\":[{\"marker\":{\"colorbar\":{\"outlinewidth\":0,\"ticks\":\"\"}},\"type\":\"scattergeo\"}],\"scattergl\":[{\"marker\":{\"line\":{\"color\":\"#283442\"}},\"type\":\"scattergl\"}],\"scattermapbox\":[{\"marker\":{\"colorbar\":{\"outlinewidth\":0,\"ticks\":\"\"}},\"type\":\"scattermapbox\"}],\"scatterpolargl\":[{\"marker\":{\"colorbar\":{\"outlinewidth\":0,\"ticks\":\"\"}},\"type\":\"scatterpolargl\"}],\"scatterpolar\":[{\"marker\":{\"colorbar\":{\"outlinewidth\":0,\"ticks\":\"\"}},\"type\":\"scatterpolar\"}],\"scatter\":[{\"marker\":{\"line\":{\"color\":\"#283442\"}},\"type\":\"scatter\"}],\"scatterternary\":[{\"marker\":{\"colorbar\":{\"outlinewidth\":0,\"ticks\":\"\"}},\"type\":\"scatterternary\"}],\"surface\":[{\"colorbar\":{\"outlinewidth\":0,\"ticks\":\"\"},\"colorscale\":[[0.0,\"#0d0887\"],[0.1111111111111111,\"#46039f\"],[0.2222222222222222,\"#7201a8\"],[0.3333333333333333,\"#9c179e\"],[0.4444444444444444,\"#bd3786\"],[0.5555555555555556,\"#d8576b\"],[0.6666666666666666,\"#ed7953\"],[0.7777777777777778,\"#fb9f3a\"],[0.8888888888888888,\"#fdca26\"],[1.0,\"#f0f921\"]],\"type\":\"surface\"}],\"table\":[{\"cells\":{\"fill\":{\"color\":\"#506784\"},\"line\":{\"color\":\"rgb(17,17,17)\"}},\"header\":{\"fill\":{\"color\":\"#2a3f5f\"},\"line\":{\"color\":\"rgb(17,17,17)\"}},\"type\":\"table\"}]},\"layout\":{\"annotationdefaults\":{\"arrowcolor\":\"#f2f5fa\",\"arrowhead\":0,\"arrowwidth\":1},\"autotypenumbers\":\"strict\",\"coloraxis\":{\"colorbar\":{\"outlinewidth\":0,\"ticks\":\"\"}},\"colorscale\":{\"diverging\":[[0,\"#8e0152\"],[0.1,\"#c51b7d\"],[0.2,\"#de77ae\"],[0.3,\"#f1b6da\"],[0.4,\"#fde0ef\"],[0.5,\"#f7f7f7\"],[0.6,\"#e6f5d0\"],[0.7,\"#b8e186\"],[0.8,\"#7fbc41\"],[0.9,\"#4d9221\"],[1,\"#276419\"]],\"sequential\":[[0.0,\"#0d0887\"],[0.1111111111111111,\"#46039f\"],[0.2222222222222222,\"#7201a8\"],[0.3333333333333333,\"#9c179e\"],[0.4444444444444444,\"#bd3786\"],[0.5555555555555556,\"#d8576b\"],[0.6666666666666666,\"#ed7953\"],[0.7777777777777778,\"#fb9f3a\"],[0.8888888888888888,\"#fdca26\"],[1.0,\"#f0f921\"]],\"sequentialminus\":[[0.0,\"#0d0887\"],[0.1111111111111111,\"#46039f\"],[0.2222222222222222,\"#7201a8\"],[0.3333333333333333,\"#9c179e\"],[0.4444444444444444,\"#bd3786\"],[0.5555555555555556,\"#d8576b\"],[0.6666666666666666,\"#ed7953\"],[0.7777777777777778,\"#fb9f3a\"],[0.8888888888888888,\"#fdca26\"],[1.0,\"#f0f921\"]]},\"colorway\":[\"#636efa\",\"#EF553B\",\"#00cc96\",\"#ab63fa\",\"#FFA15A\",\"#19d3f3\",\"#FF6692\",\"#B6E880\",\"#FF97FF\",\"#FECB52\"],\"font\":{\"color\":\"#f2f5fa\"},\"geo\":{\"bgcolor\":\"rgb(17,17,17)\",\"lakecolor\":\"rgb(17,17,17)\",\"landcolor\":\"rgb(17,17,17)\",\"showlakes\":true,\"showland\":true,\"subunitcolor\":\"#506784\"},\"hoverlabel\":{\"align\":\"left\"},\"hovermode\":\"closest\",\"mapbox\":{\"style\":\"dark\"},\"paper_bgcolor\":\"rgb(17,17,17)\",\"plot_bgcolor\":\"rgb(17,17,17)\",\"polar\":{\"angularaxis\":{\"gridcolor\":\"#506784\",\"linecolor\":\"#506784\",\"ticks\":\"\"},\"bgcolor\":\"rgb(17,17,17)\",\"radialaxis\":{\"gridcolor\":\"#506784\",\"linecolor\":\"#506784\",\"ticks\":\"\"}},\"scene\":{\"xaxis\":{\"backgroundcolor\":\"rgb(17,17,17)\",\"gridcolor\":\"#506784\",\"gridwidth\":2,\"linecolor\":\"#506784\",\"showbackground\":true,\"ticks\":\"\",\"zerolinecolor\":\"#C8D4E3\"},\"yaxis\":{\"backgroundcolor\":\"rgb(17,17,17)\",\"gridcolor\":\"#506784\",\"gridwidth\":2,\"linecolor\":\"#506784\",\"showbackground\":true,\"ticks\":\"\",\"zerolinecolor\":\"#C8D4E3\"},\"zaxis\":{\"backgroundcolor\":\"rgb(17,17,17)\",\"gridcolor\":\"#506784\",\"gridwidth\":2,\"linecolor\":\"#506784\",\"showbackground\":true,\"ticks\":\"\",\"zerolinecolor\":\"#C8D4E3\"}},\"shapedefaults\":{\"line\":{\"color\":\"#f2f5fa\"}},\"sliderdefaults\":{\"bgcolor\":\"#C8D4E3\",\"bordercolor\":\"rgb(17,17,17)\",\"borderwidth\":1,\"tickwidth\":0},\"ternary\":{\"aaxis\":{\"gridcolor\":\"#506784\",\"linecolor\":\"#506784\",\"ticks\":\"\"},\"baxis\":{\"gridcolor\":\"#506784\",\"linecolor\":\"#506784\",\"ticks\":\"\"},\"bgcolor\":\"rgb(17,17,17)\",\"caxis\":{\"gridcolor\":\"#506784\",\"linecolor\":\"#506784\",\"ticks\":\"\"}},\"title\":{\"x\":0.05},\"updatemenudefaults\":{\"bgcolor\":\"#506784\",\"borderwidth\":0},\"xaxis\":{\"automargin\":true,\"gridcolor\":\"#283442\",\"linecolor\":\"#506784\",\"ticks\":\"\",\"title\":{\"standoff\":15},\"zerolinecolor\":\"#283442\",\"zerolinewidth\":2},\"yaxis\":{\"automargin\":true,\"gridcolor\":\"#283442\",\"linecolor\":\"#506784\",\"ticks\":\"\",\"title\":{\"standoff\":15},\"zerolinecolor\":\"#283442\",\"zerolinewidth\":2}}},\"xaxis\":{\"anchor\":\"y\",\"domain\":[0.0,1.0],\"title\":{\"text\":\"Expected Goals\"}},\"yaxis\":{\"anchor\":\"x\",\"domain\":[0.0,1.0],\"title\":{\"text\":\"Expected Assisted Goals\"}},\"legend\":{\"tracegroupgap\":0},\"title\":{\"text\":\"Expected Goals vs Expected Assisted Goals\"}},                        {\"responsive\": true}                    ).then(function(){\n",
              "                            \n",
              "var gd = document.getElementById('83dd7d88-3467-42d3-b16a-230b1b7d6cbe');\n",
              "var x = new MutationObserver(function (mutations, observer) {{\n",
              "        var display = window.getComputedStyle(gd).display;\n",
              "        if (!display || display === 'none') {{\n",
              "            console.log([gd, 'removed!']);\n",
              "            Plotly.purge(gd);\n",
              "            observer.disconnect();\n",
              "        }}\n",
              "}});\n",
              "\n",
              "// Listen for the removal of the full notebook cells\n",
              "var notebookContainer = gd.closest('#notebook-container');\n",
              "if (notebookContainer) {{\n",
              "    x.observe(notebookContainer, {childList: true});\n",
              "}}\n",
              "\n",
              "// Listen for the clearing of the current output cell\n",
              "var outputEl = gd.closest('.output');\n",
              "if (outputEl) {{\n",
              "    x.observe(outputEl, {childList: true});\n",
              "}}\n",
              "\n",
              "                        })                };                            </script>        </div>\n",
              "</body>\n",
              "</html>"
            ]
          },
          "metadata": {}
        }
      ]
    },
    {
      "cell_type": "markdown",
      "source": [
        "High xG players on the bottom right consistently gets into favorable positions to score goals during matches. Here we find many top forwards such as Haaland, Kane, Salah, and Toney. Joining that group this season are Watkins and Wilson, who have embraced an upswing in individual form and team competitiveness.\n",
        "<br><br>\n",
        "High xAG players on the top left consistently provide quality passes, crosses, or setups that have a higher probability of resulting in goals. Here we find playmakers like KDB. We also see the cross merchants TAA and Trippier.\n",
        "<br><br>\n",
        "High xG and xAG players on the top right consistently do it all. They are influential players who excel in both aspects of offensive play, creating and converting a significant number of goal-scoring chances. Here we find a couple players in great form.\n",
        "<br><br>\n",
        "**James Maddison (8.7,9.3)**: Man, if this guy just stayed fit he would probably be right up there this season. With 8.7 xG and 9.3, James Maddison fought hard to keep Leicester out of relegation; too bad none of his other teammates seem to care though. A quality player that definitely will get pick up by another team this summer.\n",
        "<br><br>\n",
        "**Solly March (8.1,8.4) & Karou Mitoma (8.1,6.4)**: These two were on fire this season, playing a large part in Brighton reaching their highest ever table position and earning European football. If Mitoma had a better start to the season pre World Cup, his numbers could be even higher.\n",
        "<br><br>\n",
        "**Bruno Fernandes (9.3,16.7)**: An absolute nutty season by Bruno Fernandes sees him with 16.7 xAG, more than everybody in the league, even KDB. This is both surprising and unsurprising. Just from watching some United games, it is clear how much of the team's energy and offense center around Fernandes. He is still a moany bastard though. \n",
        "<br><br>\n",
        "**Bukayo Saka (11.2,8.5), Martin Odegaard (10,8.1), Gabriel Martinelli (9.3,9.1)**: Under Mikel Arteta, the young gunners have found another gear this season and led Arsenal to a title challenge. Great form combined with an all-round quality squad meant that these three found many goal scoring or chance creating oppportunities.\n",
        "<br><br>\n",
        "**Heung-min Son (10.1,6.5)**: Despite having one of his most underwhelming seasons in Tottenham, Son still put in some solid performances to end the season with 10.1 xG and 6.5 xAG. While not much compared to the 15.9 xG and 7.5 xAG from his golden boot season last year, his attacking threat is still a fair bit higher than many others. "
      ],
      "metadata": {
        "id": "10QRgQHywq2C"
      }
    },
    {
      "cell_type": "markdown",
      "source": [
        "## xGp90 vs xAGp90: Who were the top attacking threats over 90 minutes?\n",
        "xGp90 and xAGp90 are standardised rate-based metrics that measure the expected goals a player is expected to score or assist per 90 minutes of play. They are calculated by dividing the total xG or xAG by the total minutes played and then multiplying it by 90.\n",
        "<br><br>\n",
        "xGp90 and xAGp90 gives us insight into the efficiency or consistency of a player's attacking contribution and allows for fair comparisons between players who may have played different amounts of minutes."
      ],
      "metadata": {
        "id": "8wLMzloXPZ7v"
      }
    },
    {
      "cell_type": "code",
      "source": [
        "plotExpectedStats(df_3ga,'xG Per 90','xAG Per 90',False,['Expected Goals Per 90','Expected Assisted Goals Per 90'])"
      ],
      "metadata": {
        "colab": {
          "base_uri": "https://localhost:8080/",
          "height": 542
        },
        "id": "jIroTaMfLIQR",
        "outputId": "4394343c-e38e-466a-8ce7-849bc7351aca"
      },
      "execution_count": 53,
      "outputs": [
        {
          "output_type": "display_data",
          "data": {
            "text/html": [
              "<html>\n",
              "<head><meta charset=\"utf-8\" /></head>\n",
              "<body>\n",
              "    <div>            <script src=\"https://cdnjs.cloudflare.com/ajax/libs/mathjax/2.7.5/MathJax.js?config=TeX-AMS-MML_SVG\"></script><script type=\"text/javascript\">if (window.MathJax && window.MathJax.Hub && window.MathJax.Hub.Config) {window.MathJax.Hub.Config({SVG: {font: \"STIX-Web\"}});}</script>                <script type=\"text/javascript\">window.PlotlyConfig = {MathJaxConfig: 'local'};</script>\n",
              "        <script src=\"https://cdn.plot.ly/plotly-2.18.2.min.js\"></script>                <div id=\"a11971a6-8c22-41ae-b539-29cb6a4a2441\" class=\"plotly-graph-div\" style=\"height:525px; width:100%;\"></div>            <script type=\"text/javascript\">                                    window.PLOTLYENV=window.PLOTLYENV || {};                                    if (document.getElementById(\"a11971a6-8c22-41ae-b539-29cb6a4a2441\")) {                    Plotly.newPlot(                        \"a11971a6-8c22-41ae-b539-29cb6a4a2441\",                        [{\"hovertemplate\":\"<b>Player:</b> %{customdata[0]}<br><b>Club:</b> %{customdata[1]}<br><b>xG Per 90:</b> %{x}<br><b>xAG Per 90:</b> %{y}\",\"legendgroup\":\"\",\"marker\":{\"color\":[\"#6CABDD\",\"#6CABDD\",\"#6CABDD\",\"#6CABDD\",\"#6CABDD\",\"#6CABDD\",\"#6CABDD\",\"#6CABDD\",\"#6CABDD\",\"#6CABDD\",\"#6CABDD\",\"#EF0107\",\"#EF0107\",\"#EF0107\",\"#EF0107\",\"#EF0107\",\"#EF0107\",\"#EF0107\",\"#EF0107\",\"#EF0107\",\"#EF0107\",\"#EF0107\",\"#EF0107\",\"#EF0107\",\"#EF0107\",\"#EF3829\",\"#EF3829\",\"#EF3829\",\"#EF3829\",\"#EF3829\",\"#EF3829\",\"#EF3829\",\"#EF3829\",\"#EF3829\",\"#EF3829\",\"#EF3829\",\"#BBBCBC\",\"#BBBCBC\",\"#BBBCBC\",\"#BBBCBC\",\"#BBBCBC\",\"#BBBCBC\",\"#BBBCBC\",\"#BBBCBC\",\"#BBBCBC\",\"#BBBCBC\",\"#BBBCBC\",\"#C8102E\",\"#C8102E\",\"#C8102E\",\"#C8102E\",\"#C8102E\",\"#C8102E\",\"#C8102E\",\"#C8102E\",\"#C8102E\",\"#C8102E\",\"#C8102E\",\"#C8102E\",\"#0057B8\",\"#0057B8\",\"#0057B8\",\"#0057B8\",\"#0057B8\",\"#0057B8\",\"#0057B8\",\"#0057B8\",\"#0057B8\",\"#0057B8\",\"#0057B8\",\"#670E36\",\"#670E36\",\"#670E36\",\"#670E36\",\"#670E36\",\"#670E36\",\"#670E36\",\"#670E36\",\"#670E36\",\"#FFFFFF\",\"#FFFFFF\",\"#FFFFFF\",\"#FFFFFF\",\"#FFFFFF\",\"#FFFFFF\",\"#FFFFFF\",\"#FFFFFF\",\"#FFFFFF\",\"#FFFFFF\",\"#FFFFFF\",\"#E30613\",\"#E30613\",\"#E30613\",\"#E30613\",\"#E30613\",\"#E30613\",\"#E30613\",\"#E30613\",\"#E30613\",\"#FFFFFF\",\"#FFFFFF\",\"#FFFFFF\",\"#FFFFFF\",\"#FFFFFF\",\"#FFFFFF\",\"#FFFFFF\",\"#FFFFFF\",\"#FFFFFF\",\"#FFFFFF\",\"#FFFFFF\",\"#FFFFFF\",\"#A7A5A6\",\"#A7A5A6\",\"#A7A5A6\",\"#A7A5A6\",\"#A7A5A6\",\"#A7A5A6\",\"#A7A5A6\",\"#034694\",\"#034694\",\"#034694\",\"#034694\",\"#034694\",\"#034694\",\"#034694\",\"#034694\",\"#034694\",\"#F6B000\",\"#F6B000\",\"#F6B000\",\"#F6B000\",\"#1BB1E7\",\"#1BB1E7\",\"#1BB1E7\",\"#1BB1E7\",\"#1BB1E7\",\"#1BB1E7\",\"#1BB1E7\",\"#1BB1E7\",\"#1BB1E7\",\"#A89968\",\"#A89968\",\"#A89968\",\"#A89968\",\"#A89968\",\"#A89968\",\"#A89968\",\"#E53233\",\"#E53233\",\"#E53233\",\"#E53233\",\"#E53233\",\"#003399\",\"#003399\",\"#003399\",\"#003399\",\"#003399\",\"#003399\",\"#003399\",\"#003399\",\"#003090\",\"#003090\",\"#003090\",\"#003090\",\"#003090\",\"#003090\",\"#003090\",\"#003090\",\"#003090\",\"#FFCD00\",\"#FFCD00\",\"#FFCD00\",\"#FFCD00\",\"#FFCD00\",\"#FFCD00\",\"#FFCD00\",\"#FFCD00\",\"#FFCD00\",\"#FFCD00\",\"#FFCD00\",\"#FFCD00\",\"gray\",\"gray\",\"gray\",\"gray\",\"gray\",\"gray\",\"gray\",\"gray\",\"gray\"],\"symbol\":\"circle\"},\"mode\":\"markers\",\"name\":\"\",\"orientation\":\"v\",\"showlegend\":false,\"x\":[0.14,0.92,0.21,0.29,0.09,0.2,0.26,0.29,0.05,0.06,0.43,0.13,0.32,0.29,0.04,0.14,0.3,0.08,0.03,0.06,0.61,0.18,0.68,0.15,0.46,0.25,0.48,0.04,0.22,0.1,0.14,0.33,0.22,0.14,0.58,0.48,0.02,0.14,0.09,0.25,0.24,0.29,0.13,0.84,0.49,0.24,0.13,0.59,0.07,0.08,0.05,0.64,0.12,0.38,0.41,0.52,0.1,0.22,0.07,0.15,0.38,0.27,0.06,0.31,0.46,0.3,0.11,0.51,0.45,0.65,0.47,0.03,0.09,0.17,0.08,0.24,0.24,0.04,0.59,0.57,0.06,0.31,0.05,0.04,0.11,0.11,0.09,0.13,0.15,0.29,0.09,0.07,0.3,0.57,0.1,0.1,0.08,0.32,0.1,0.08,0.06,0.24,0.02,0.14,0.14,0.67,0.16,0.27,0.06,0.25,0.19,0.05,0.09,0.1,0.25,0.11,0.26,0.21,0.41,0.29,0.05,0.11,0.14,0.09,0.09,0.47,0.08,0.15,0.2,0.08,0.23,0.07,0.25,0.13,0.18,0.31,0.32,0.13,0.24,0.35,0.07,0.16,0.29,0.16,0.26,0.31,0.16,0.18,0.26,0.42,0.14,0.23,0.07,0.11,0.13,0.22,0.14,0.45,0.27,0.12,0.06,0.3,0.04,0.31,0.09,0.1,0.33,0.27,0.57,0.16,0.08,0.15,0.06,0.38,0.14,0.04,0.51,0.12,0.39,0.18,0.15,0.15,0.3,0.06,0.15,0.14,0.18,0.17,0.16,0.17],\"xaxis\":\"x\",\"y\":[0.13,0.17,0.51,0.13,0.13,0.31,0.33,0.23,0.07,0.06,0.11,0.01,0.24,0.23,0.09,0.16,0.29,0.06,0.04,0.06,0.17,0.46,0.11,0.44,0.58,0.45,0.11,0.13,0.19,0.08,0.13,0.14,0.27,0.21,0.13,0.16,0.33,0.09,0.13,0.21,0.08,0.11,0.12,0.13,0.13,0.2,0.37,0.21,0.35,0.04,0.21,0.28,0.2,0.17,0.19,0.17,0.1,0.14,0.19,0.3,0.13,0.28,0.18,0.25,0.21,0.14,0.12,0.07,0.19,0.15,0.11,0.04,0.14,0.17,0.09,0.21,0.22,0.21,0.13,0.18,0.09,0.2,0.04,0.1,0.26,0.2,0.03,0.05,0.24,0.2,0.04,0.16,0.23,0.15,0.03,0.06,0.16,0.14,0.09,0.01,0.13,0.17,0.07,0.06,0.19,0.1,0.07,0.06,0.18,0.11,0.06,0.06,0.29,0.11,0.15,0.05,0.11,0.06,0.13,0.22,0.02,0.16,0.13,0.11,0.14,0.05,0.3,0.05,0.13,0.23,0.09,0.09,0.2,0.06,0.1,0.2,0.06,0.1,0.07,0.12,0.06,0.1,0.12,0.15,0.18,0.02,0.07,0.25,0.1,0.07,0.07,0.07,0.16,0.09,0.22,0.14,0.13,0.06,0.05,0.07,0.07,0.1,0.02,0.34,0.13,0.18,0.07,0.21,0.32,0.17,0.11,0.16,0.1,0.08,0.09,0.05,0.06,0.15,0.04,0.1,0.24,0.17,0.13,0.09,0.14,0.09,0.16,0.06,0.12,0.12],\"yaxis\":\"y\",\"type\":\"scatter\",\"customdata\":[[\"Rodri\",\"Manchester City\"],[\"Erling Haaland\",\"Manchester City\"],[\"Kevin De Bruyne\",\"Manchester City\"],[\"\\u0130lkay G\\u00fcndo\\u011fan\",\"Manchester City\"],[\"Bernardo Silva\",\"Manchester City\"],[\"Jack Grealish\",\"Manchester City\"],[\"Riyad Mahrez\",\"Manchester City\"],[\"Phil Foden\",\"Manchester City\"],[\"John Stones\",\"Manchester City\"],[\"Jo\\u00e3o Cancelo\",\"Manchester City\"],[\"Juli\\u00e1n \\u00c1lvarez\",\"Manchester City\"],[\"Gabriel Dos Santos\",\"Arsenal\"],[\"Bukayo Saka\",\"Arsenal\"],[\"Martin \\u00d8degaard\",\"Arsenal\"],[\"Ben White\",\"Arsenal\"],[\"Granit Xhaka\",\"Arsenal\"],[\"Martinelli\",\"Arsenal\"],[\"Thomas Partey\",\"Arsenal\"],[\"William Saliba\",\"Arsenal\"],[\"Oleksandr Zinchenko\",\"Arsenal\"],[\"Gabriel Jesus\",\"Arsenal\"],[\"Leandro Trossard\",\"Arsenal\"],[\"Eddie Nketiah\",\"Arsenal\"],[\"Fabio Vieira\",\"Arsenal\"],[\"Reiss Nelson\",\"Arsenal\"],[\"Bruno Fernandes\",\"Manchester United\"],[\"Marcus Rashford\",\"Manchester United\"],[\"Luke Shaw\",\"Manchester United\"],[\"Christian Eriksen\",\"Manchester United\"],[\"Diogo Dalot\",\"Manchester United\"],[\"Casemiro\",\"Manchester United\"],[\"Antony\",\"Manchester United\"],[\"Jadon Sancho\",\"Manchester United\"],[\"Fred\",\"Manchester United\"],[\"Anthony Martial\",\"Manchester United\"],[\"Alejandro Garnacho\",\"Manchester United\"],[\"Kieran Trippier\",\"Newcastle United\"],[\"Fabian Sch\\u00e4r\",\"Newcastle United\"],[\"Bruno Guimar\\u00e3es\",\"Newcastle United\"],[\"Joe Willock\",\"Newcastle United\"],[\"Joelinton\",\"Newcastle United\"],[\"Miguel Almir\\u00f3n\",\"Newcastle United\"],[\"Sean Longstaff\",\"Newcastle United\"],[\"Callum Wilson\",\"Newcastle United\"],[\"Alexander Isak\",\"Newcastle United\"],[\"Jacob Murphy\",\"Newcastle United\"],[\"Allan Saint-Maximin\",\"Newcastle United\"],[\"Mohamed Salah\",\"Liverpool\"],[\"Trent Alexander-Arnold\",\"Liverpool\"],[\"Virgil van Dijk\",\"Liverpool\"],[\"Andrew Robertson\",\"Liverpool\"],[\"Darwin N\\u00fa\\u00f1ez\",\"Liverpool\"],[\"Harvey Elliott\",\"Liverpool\"],[\"Cody Gakpo\",\"Liverpool\"],[\"Roberto Firmino\",\"Liverpool\"],[\"Diogo Jota\",\"Liverpool\"],[\"Curtis Jones\",\"Liverpool\"],[\"Luis D\\u00edaz\",\"Liverpool\"],[\"Kostas Tsimikas\",\"Liverpool\"],[\"Pascal Gro\\u00df\",\"Brighton and Hove Albion\"],[\"Alexis Mac Allister\",\"Brighton and Hove Albion\"],[\"Solly March\",\"Brighton and Hove Albion\"],[\"Pervis Estupi\\u00f1\\u00e1n\",\"Brighton and Hove Albion\"],[\"Kaoru Mitoma\",\"Brighton and Hove Albion\"],[\"Danny Welbeck\",\"Brighton and Hove Albion\"],[\"Leandro Trossard\",\"Brighton and Hove Albion\"],[\"Adam Lallana\",\"Brighton and Hove Albion\"],[\"Evan Ferguson\",\"Brighton and Hove Albion\"],[\"Julio C\\u00e9sar Enciso\",\"Brighton and Hove Albion\"],[\"Deniz Undav\",\"Brighton and Hove Albion\"],[\"Ollie Watkins\",\"Aston Villa\"],[\"Tyrone Mings\",\"Aston Villa\"],[\"Douglas Luiz\",\"Aston Villa\"],[\"Jacob Ramsey\",\"Aston Villa\"],[\"John McGinn\",\"Aston Villa\"],[\"Emi Buend\\u00eda\",\"Aston Villa\"],[\"Leon Bailey\",\"Aston Villa\"],[\"\\u00c1lex Moreno\",\"Aston Villa\"],[\"Danny Ings\",\"Aston Villa\"],[\"Harry Kane\",\"Tottenham Hotspur\"],[\"Pierre H\\u00f8jbjerg\",\"Tottenham Hotspur\"],[\"Son Heung-min\",\"Tottenham Hotspur\"],[\"Eric Dier\",\"Tottenham Hotspur\"],[\"Ben Davies\",\"Tottenham Hotspur\"],[\"Ivan Peri\\u0161i\\u0107\",\"Tottenham Hotspur\"],[\"Dejan Kulusevski\",\"Tottenham Hotspur\"],[\"Emerson\",\"Tottenham Hotspur\"],[\"Rodrigo Bentancur\",\"Tottenham Hotspur\"],[\"Pedro Porro\",\"Tottenham Hotspur\"],[\"Richarlison\",\"Tottenham Hotspur\"],[\"Ben Mee\",\"Brentford\"],[\"Mathias Jensen\",\"Brentford\"],[\"Bryan Mbeumo\",\"Brentford\"],[\"Ivan Toney\",\"Brentford\"],[\"Ethan Pinnock\",\"Brentford\"],[\"Vitaly Janelt\",\"Brentford\"],[\"Christian N\\u00f8rgaard\",\"Brentford\"],[\"Yoane Wissa\",\"Brentford\"],[\"Josh Dasilva\",\"Brentford\"],[\"Jo\\u00e3o Palhinha\",\"Fulham\"],[\"Harrison Reed\",\"Fulham\"],[\"Andreas Pereira\",\"Fulham\"],[\"Kenny Tete\",\"Fulham\"],[\"Bobby Reid\",\"Fulham\"],[\"Willian\",\"Fulham\"],[\"Aleksandar Mitrovi\\u0107\",\"Fulham\"],[\"Harry Wilson\",\"Fulham\"],[\"Carlos Vin\\u00edcius\",\"Fulham\"],[\"Neeskens Kebano\",\"Fulham\"],[\"Daniel James\",\"Fulham\"],[\"Manor Solomon\",\"Fulham\"],[\"Cheick Doucour\\u00e9\",\"Crystal Palace\"],[\"Michael Olise\",\"Crystal Palace\"],[\"Jordan Ayew\",\"Crystal Palace\"],[\"Eberechi Eze\",\"Crystal Palace\"],[\"Jeffrey Schlupp\",\"Crystal Palace\"],[\"Wilfried Zaha\",\"Crystal Palace\"],[\"Odsonne \\u00c9douard\",\"Crystal Palace\"],[\"Kai Havertz\",\"Chelsea\"],[\"Raheem Sterling\",\"Chelsea\"],[\"Kalidou Koulibaly\",\"Chelsea\"],[\"Mason Mount\",\"Chelsea\"],[\"Conor Gallagher\",\"Chelsea\"],[\"Mateo Kova\\u010di\\u0107\",\"Chelsea\"],[\"Ben Chilwell\",\"Chelsea\"],[\"Jo\\u00e3o F\\u00e9lix\",\"Chelsea\"],[\"Hakim Ziyech\",\"Chelsea\"],[\"R\\u00faben Neves\",\"Wolverhampton Wanderers\"],[\"Daniel Podence\",\"Wolverhampton Wanderers\"],[\"Adama Traor\\u00e9\",\"Wolverhampton Wanderers\"],[\"Hwang Hee-chan\",\"Wolverhampton Wanderers\"],[\"Declan Rice\",\"West Ham United\"],[\"Jarrod Bowen\",\"West Ham United\"],[\"Tom\\u00e1\\u0161 Sou\\u010dek\",\"West Ham United\"],[\"Lucas Paquet\\u00e1\",\"West Ham United\"],[\"Sa\\u00efd Benrahma\",\"West Ham United\"],[\"Michail Antonio\",\"West Ham United\"],[\"Pablo Fornals\",\"West Ham United\"],[\"Gianluca Scamacca\",\"West Ham United\"],[\"Danny Ings\",\"West Ham United\"],[\"Jefferson Lerma\",\"Bournemouth\"],[\"Philip Billing\",\"Bournemouth\"],[\"Dominic Solanke\",\"Bournemouth\"],[\"Marcus Tavernier\",\"Bournemouth\"],[\"Dango Ouattara\",\"Bournemouth\"],[\"Kieffer Moore\",\"Bournemouth\"],[\"Jaidon Anthony\",\"Bournemouth\"],[\"Morgan Gibbs-White\",\"Nottingham Forest\"],[\"Brennan Johnson\",\"Nottingham Forest\"],[\"Taiwo Awoniyi\",\"Nottingham Forest\"],[\"Danilo\",\"Nottingham Forest\"],[\"Emmanuel Dennis\",\"Nottingham Forest\"],[\"Alex Iwobi\",\"Everton\"],[\"Amadou Onana\",\"Everton\"],[\"Dwight McNeil\",\"Everton\"],[\"Demarai Gray\",\"Everton\"],[\"Abdoulaye Doucour\\u00e9\",\"Everton\"],[\"Dominic Calvert-Lewin\",\"Everton\"],[\"Anthony Gordon\",\"Everton\"],[\"Michael Keane\",\"Everton\"],[\"Timothy Castagne\",\"Leicester City\"],[\"Harvey Barnes\",\"Leicester City\"],[\"Wout Faes\",\"Leicester City\"],[\"James Maddison\",\"Leicester City\"],[\"Kiernan Dewsbury-Hall\",\"Leicester City\"],[\"Youri Tielemans\",\"Leicester City\"],[\"Jamie Vardy\",\"Leicester City\"],[\"Patson Daka\",\"Leicester City\"],[\"Kelechi Iheanacho\",\"Leicester City\"],[\"Jack Harrison\",\"Leeds United\"],[\"Marc Roca\",\"Leeds United\"],[\"Brenden Aaronson\",\"Leeds United\"],[\"Pascal Struijk\",\"Leeds United\"],[\"Rodrigo\",\"Leeds United\"],[\"Luke Ayling\",\"Leeds United\"],[\"Rasmus Nissen\",\"Leeds United\"],[\"Patrick Bamford\",\"Leeds United\"],[\"Degnand Gnonto\",\"Leeds United\"],[\"Luis Sinisterra\",\"Leeds United\"],[\"Crysencio Summerville\",\"Leeds United\"],[\"Sam Greenwood\",\"Leeds United\"],[\"James Ward-Prowse\",\"Southampton\"],[\"Che Adams\",\"Southampton\"],[\"Romain Perraud\",\"Southampton\"],[\"Stuart Armstrong\",\"Southampton\"],[\"Adam Armstrong\",\"Southampton\"],[\"Theo Walcott\",\"Southampton\"],[\"Carlos Alcaraz\",\"Southampton\"],[\"Kamaldeen Sulemana\",\"Southampton\"],[\"Sekou Mara\",\"Southampton\"]]}],                        {\"template\":{\"data\":{\"barpolar\":[{\"marker\":{\"line\":{\"color\":\"rgb(17,17,17)\",\"width\":0.5},\"pattern\":{\"fillmode\":\"overlay\",\"size\":10,\"solidity\":0.2}},\"type\":\"barpolar\"}],\"bar\":[{\"error_x\":{\"color\":\"#f2f5fa\"},\"error_y\":{\"color\":\"#f2f5fa\"},\"marker\":{\"line\":{\"color\":\"rgb(17,17,17)\",\"width\":0.5},\"pattern\":{\"fillmode\":\"overlay\",\"size\":10,\"solidity\":0.2}},\"type\":\"bar\"}],\"carpet\":[{\"aaxis\":{\"endlinecolor\":\"#A2B1C6\",\"gridcolor\":\"#506784\",\"linecolor\":\"#506784\",\"minorgridcolor\":\"#506784\",\"startlinecolor\":\"#A2B1C6\"},\"baxis\":{\"endlinecolor\":\"#A2B1C6\",\"gridcolor\":\"#506784\",\"linecolor\":\"#506784\",\"minorgridcolor\":\"#506784\",\"startlinecolor\":\"#A2B1C6\"},\"type\":\"carpet\"}],\"choropleth\":[{\"colorbar\":{\"outlinewidth\":0,\"ticks\":\"\"},\"type\":\"choropleth\"}],\"contourcarpet\":[{\"colorbar\":{\"outlinewidth\":0,\"ticks\":\"\"},\"type\":\"contourcarpet\"}],\"contour\":[{\"colorbar\":{\"outlinewidth\":0,\"ticks\":\"\"},\"colorscale\":[[0.0,\"#0d0887\"],[0.1111111111111111,\"#46039f\"],[0.2222222222222222,\"#7201a8\"],[0.3333333333333333,\"#9c179e\"],[0.4444444444444444,\"#bd3786\"],[0.5555555555555556,\"#d8576b\"],[0.6666666666666666,\"#ed7953\"],[0.7777777777777778,\"#fb9f3a\"],[0.8888888888888888,\"#fdca26\"],[1.0,\"#f0f921\"]],\"type\":\"contour\"}],\"heatmapgl\":[{\"colorbar\":{\"outlinewidth\":0,\"ticks\":\"\"},\"colorscale\":[[0.0,\"#0d0887\"],[0.1111111111111111,\"#46039f\"],[0.2222222222222222,\"#7201a8\"],[0.3333333333333333,\"#9c179e\"],[0.4444444444444444,\"#bd3786\"],[0.5555555555555556,\"#d8576b\"],[0.6666666666666666,\"#ed7953\"],[0.7777777777777778,\"#fb9f3a\"],[0.8888888888888888,\"#fdca26\"],[1.0,\"#f0f921\"]],\"type\":\"heatmapgl\"}],\"heatmap\":[{\"colorbar\":{\"outlinewidth\":0,\"ticks\":\"\"},\"colorscale\":[[0.0,\"#0d0887\"],[0.1111111111111111,\"#46039f\"],[0.2222222222222222,\"#7201a8\"],[0.3333333333333333,\"#9c179e\"],[0.4444444444444444,\"#bd3786\"],[0.5555555555555556,\"#d8576b\"],[0.6666666666666666,\"#ed7953\"],[0.7777777777777778,\"#fb9f3a\"],[0.8888888888888888,\"#fdca26\"],[1.0,\"#f0f921\"]],\"type\":\"heatmap\"}],\"histogram2dcontour\":[{\"colorbar\":{\"outlinewidth\":0,\"ticks\":\"\"},\"colorscale\":[[0.0,\"#0d0887\"],[0.1111111111111111,\"#46039f\"],[0.2222222222222222,\"#7201a8\"],[0.3333333333333333,\"#9c179e\"],[0.4444444444444444,\"#bd3786\"],[0.5555555555555556,\"#d8576b\"],[0.6666666666666666,\"#ed7953\"],[0.7777777777777778,\"#fb9f3a\"],[0.8888888888888888,\"#fdca26\"],[1.0,\"#f0f921\"]],\"type\":\"histogram2dcontour\"}],\"histogram2d\":[{\"colorbar\":{\"outlinewidth\":0,\"ticks\":\"\"},\"colorscale\":[[0.0,\"#0d0887\"],[0.1111111111111111,\"#46039f\"],[0.2222222222222222,\"#7201a8\"],[0.3333333333333333,\"#9c179e\"],[0.4444444444444444,\"#bd3786\"],[0.5555555555555556,\"#d8576b\"],[0.6666666666666666,\"#ed7953\"],[0.7777777777777778,\"#fb9f3a\"],[0.8888888888888888,\"#fdca26\"],[1.0,\"#f0f921\"]],\"type\":\"histogram2d\"}],\"histogram\":[{\"marker\":{\"pattern\":{\"fillmode\":\"overlay\",\"size\":10,\"solidity\":0.2}},\"type\":\"histogram\"}],\"mesh3d\":[{\"colorbar\":{\"outlinewidth\":0,\"ticks\":\"\"},\"type\":\"mesh3d\"}],\"parcoords\":[{\"line\":{\"colorbar\":{\"outlinewidth\":0,\"ticks\":\"\"}},\"type\":\"parcoords\"}],\"pie\":[{\"automargin\":true,\"type\":\"pie\"}],\"scatter3d\":[{\"line\":{\"colorbar\":{\"outlinewidth\":0,\"ticks\":\"\"}},\"marker\":{\"colorbar\":{\"outlinewidth\":0,\"ticks\":\"\"}},\"type\":\"scatter3d\"}],\"scattercarpet\":[{\"marker\":{\"colorbar\":{\"outlinewidth\":0,\"ticks\":\"\"}},\"type\":\"scattercarpet\"}],\"scattergeo\":[{\"marker\":{\"colorbar\":{\"outlinewidth\":0,\"ticks\":\"\"}},\"type\":\"scattergeo\"}],\"scattergl\":[{\"marker\":{\"line\":{\"color\":\"#283442\"}},\"type\":\"scattergl\"}],\"scattermapbox\":[{\"marker\":{\"colorbar\":{\"outlinewidth\":0,\"ticks\":\"\"}},\"type\":\"scattermapbox\"}],\"scatterpolargl\":[{\"marker\":{\"colorbar\":{\"outlinewidth\":0,\"ticks\":\"\"}},\"type\":\"scatterpolargl\"}],\"scatterpolar\":[{\"marker\":{\"colorbar\":{\"outlinewidth\":0,\"ticks\":\"\"}},\"type\":\"scatterpolar\"}],\"scatter\":[{\"marker\":{\"line\":{\"color\":\"#283442\"}},\"type\":\"scatter\"}],\"scatterternary\":[{\"marker\":{\"colorbar\":{\"outlinewidth\":0,\"ticks\":\"\"}},\"type\":\"scatterternary\"}],\"surface\":[{\"colorbar\":{\"outlinewidth\":0,\"ticks\":\"\"},\"colorscale\":[[0.0,\"#0d0887\"],[0.1111111111111111,\"#46039f\"],[0.2222222222222222,\"#7201a8\"],[0.3333333333333333,\"#9c179e\"],[0.4444444444444444,\"#bd3786\"],[0.5555555555555556,\"#d8576b\"],[0.6666666666666666,\"#ed7953\"],[0.7777777777777778,\"#fb9f3a\"],[0.8888888888888888,\"#fdca26\"],[1.0,\"#f0f921\"]],\"type\":\"surface\"}],\"table\":[{\"cells\":{\"fill\":{\"color\":\"#506784\"},\"line\":{\"color\":\"rgb(17,17,17)\"}},\"header\":{\"fill\":{\"color\":\"#2a3f5f\"},\"line\":{\"color\":\"rgb(17,17,17)\"}},\"type\":\"table\"}]},\"layout\":{\"annotationdefaults\":{\"arrowcolor\":\"#f2f5fa\",\"arrowhead\":0,\"arrowwidth\":1},\"autotypenumbers\":\"strict\",\"coloraxis\":{\"colorbar\":{\"outlinewidth\":0,\"ticks\":\"\"}},\"colorscale\":{\"diverging\":[[0,\"#8e0152\"],[0.1,\"#c51b7d\"],[0.2,\"#de77ae\"],[0.3,\"#f1b6da\"],[0.4,\"#fde0ef\"],[0.5,\"#f7f7f7\"],[0.6,\"#e6f5d0\"],[0.7,\"#b8e186\"],[0.8,\"#7fbc41\"],[0.9,\"#4d9221\"],[1,\"#276419\"]],\"sequential\":[[0.0,\"#0d0887\"],[0.1111111111111111,\"#46039f\"],[0.2222222222222222,\"#7201a8\"],[0.3333333333333333,\"#9c179e\"],[0.4444444444444444,\"#bd3786\"],[0.5555555555555556,\"#d8576b\"],[0.6666666666666666,\"#ed7953\"],[0.7777777777777778,\"#fb9f3a\"],[0.8888888888888888,\"#fdca26\"],[1.0,\"#f0f921\"]],\"sequentialminus\":[[0.0,\"#0d0887\"],[0.1111111111111111,\"#46039f\"],[0.2222222222222222,\"#7201a8\"],[0.3333333333333333,\"#9c179e\"],[0.4444444444444444,\"#bd3786\"],[0.5555555555555556,\"#d8576b\"],[0.6666666666666666,\"#ed7953\"],[0.7777777777777778,\"#fb9f3a\"],[0.8888888888888888,\"#fdca26\"],[1.0,\"#f0f921\"]]},\"colorway\":[\"#636efa\",\"#EF553B\",\"#00cc96\",\"#ab63fa\",\"#FFA15A\",\"#19d3f3\",\"#FF6692\",\"#B6E880\",\"#FF97FF\",\"#FECB52\"],\"font\":{\"color\":\"#f2f5fa\"},\"geo\":{\"bgcolor\":\"rgb(17,17,17)\",\"lakecolor\":\"rgb(17,17,17)\",\"landcolor\":\"rgb(17,17,17)\",\"showlakes\":true,\"showland\":true,\"subunitcolor\":\"#506784\"},\"hoverlabel\":{\"align\":\"left\"},\"hovermode\":\"closest\",\"mapbox\":{\"style\":\"dark\"},\"paper_bgcolor\":\"rgb(17,17,17)\",\"plot_bgcolor\":\"rgb(17,17,17)\",\"polar\":{\"angularaxis\":{\"gridcolor\":\"#506784\",\"linecolor\":\"#506784\",\"ticks\":\"\"},\"bgcolor\":\"rgb(17,17,17)\",\"radialaxis\":{\"gridcolor\":\"#506784\",\"linecolor\":\"#506784\",\"ticks\":\"\"}},\"scene\":{\"xaxis\":{\"backgroundcolor\":\"rgb(17,17,17)\",\"gridcolor\":\"#506784\",\"gridwidth\":2,\"linecolor\":\"#506784\",\"showbackground\":true,\"ticks\":\"\",\"zerolinecolor\":\"#C8D4E3\"},\"yaxis\":{\"backgroundcolor\":\"rgb(17,17,17)\",\"gridcolor\":\"#506784\",\"gridwidth\":2,\"linecolor\":\"#506784\",\"showbackground\":true,\"ticks\":\"\",\"zerolinecolor\":\"#C8D4E3\"},\"zaxis\":{\"backgroundcolor\":\"rgb(17,17,17)\",\"gridcolor\":\"#506784\",\"gridwidth\":2,\"linecolor\":\"#506784\",\"showbackground\":true,\"ticks\":\"\",\"zerolinecolor\":\"#C8D4E3\"}},\"shapedefaults\":{\"line\":{\"color\":\"#f2f5fa\"}},\"sliderdefaults\":{\"bgcolor\":\"#C8D4E3\",\"bordercolor\":\"rgb(17,17,17)\",\"borderwidth\":1,\"tickwidth\":0},\"ternary\":{\"aaxis\":{\"gridcolor\":\"#506784\",\"linecolor\":\"#506784\",\"ticks\":\"\"},\"baxis\":{\"gridcolor\":\"#506784\",\"linecolor\":\"#506784\",\"ticks\":\"\"},\"bgcolor\":\"rgb(17,17,17)\",\"caxis\":{\"gridcolor\":\"#506784\",\"linecolor\":\"#506784\",\"ticks\":\"\"}},\"title\":{\"x\":0.05},\"updatemenudefaults\":{\"bgcolor\":\"#506784\",\"borderwidth\":0},\"xaxis\":{\"automargin\":true,\"gridcolor\":\"#283442\",\"linecolor\":\"#506784\",\"ticks\":\"\",\"title\":{\"standoff\":15},\"zerolinecolor\":\"#283442\",\"zerolinewidth\":2},\"yaxis\":{\"automargin\":true,\"gridcolor\":\"#283442\",\"linecolor\":\"#506784\",\"ticks\":\"\",\"title\":{\"standoff\":15},\"zerolinecolor\":\"#283442\",\"zerolinewidth\":2}}},\"xaxis\":{\"anchor\":\"y\",\"domain\":[0.0,1.0],\"title\":{\"text\":\"Expected Goals Per 90\"}},\"yaxis\":{\"anchor\":\"x\",\"domain\":[0.0,1.0],\"title\":{\"text\":\"Expected Assisted Goals Per 90\"}},\"legend\":{\"tracegroupgap\":0},\"title\":{\"text\":\"Expected Goals Per 90 vs Expected Assisted Goals Per 90\"}},                        {\"responsive\": true}                    ).then(function(){\n",
              "                            \n",
              "var gd = document.getElementById('a11971a6-8c22-41ae-b539-29cb6a4a2441');\n",
              "var x = new MutationObserver(function (mutations, observer) {{\n",
              "        var display = window.getComputedStyle(gd).display;\n",
              "        if (!display || display === 'none') {{\n",
              "            console.log([gd, 'removed!']);\n",
              "            Plotly.purge(gd);\n",
              "            observer.disconnect();\n",
              "        }}\n",
              "}});\n",
              "\n",
              "// Listen for the removal of the full notebook cells\n",
              "var notebookContainer = gd.closest('#notebook-container');\n",
              "if (notebookContainer) {{\n",
              "    x.observe(notebookContainer, {childList: true});\n",
              "}}\n",
              "\n",
              "// Listen for the clearing of the current output cell\n",
              "var outputEl = gd.closest('.output');\n",
              "if (outputEl) {{\n",
              "    x.observe(outputEl, {childList: true});\n",
              "}}\n",
              "\n",
              "                        })                };                            </script>        </div>\n",
              "</body>\n",
              "</html>"
            ]
          },
          "metadata": {}
        }
      ]
    },
    {
      "cell_type": "markdown",
      "source": [
        "Conclusions are not too different from the previous xG vs xAG plot. Top players like Haaland and KDB are still a cut above the rest. However, it does highlight some players who perform well given limited playtime.\n",
        "<br><br>\n",
        "**Eddie Nketiah (0.68,0.11), Leandro Trossard (0.18,0.46), Fabio Viera (0.15,0.44)**: Two great signings that scored or created chances whenever called upon. Nketiah's goals and Trossard's linkup play during Gabriel Jesus's absence definitely kept Arsenal in the title contention.\n",
        "<br><br>\n",
        "**Reiss Nelson (0.46,0.58)**: Despite playing just 212 minutes, Nelson was an efficient impact sub that drastically improved Arsenal's offense, averaging an 0.46 xG and 0.58 xAG per 90 minutes. He is just shy from scoring 1 goal AND 1 assist every 2 games! His impressive late-game performance and 97th minute screamer that led to a 3-2 comeback against Bournemouth immediately comes to mind.\n",
        "<br><br>\n",
        "**Callum Wilson (0.84,0.13)**: Wilson is the closest to Haaland in being a consistent scoring threat. With 0.84 xG per 90 minutes, he is expected to score almost a goal per match."
      ],
      "metadata": {
        "id": "M30f2y52Hpsx"
      }
    },
    {
      "cell_type": "markdown",
      "source": [
        "## xG vs G: Who were the clinal finishers?\n",
        "While expected goals provide valuable insights into the quality of scoring opportunities, actual goals are the tangible output that directly impacts match results. If a high xG striker consistently finds himself in goal scoring positions but misses half the shots, is he still still a good striker? Probably not. A comparison of xG and G build a more complete picture of an individual's goal scoring ability. \n",
        "<br><br>\n",
        "G > xG (illustrated by a datapoint above the linear trend line) means a player has been efficient in converting their chances and outperforming the statistical predictions of goal-scoring based on the quality of chances created. \n",
        "<br><br>\n",
        "On the other hand, G < xG (illustrated by a datapoint below the linear trend line) means a player is underperforming statistical predictions due to poor finishing or decision-making in key moments. \n",
        "<br><br>\n",
        "Of course, strong goalkeeper performances and sheer luck can play a role, but in a result-driven environment over the course of of a season, that is rarely a convincing excuse.\n",
        "<br><br>\n",
        "Below the plot, I analyse several key players to see if they have over or underperformed."
      ],
      "metadata": {
        "id": "vZnjxJ01Yz1A"
      }
    },
    {
      "cell_type": "code",
      "source": [
        "plotExpectedStats(df_3ga,'xG','Gls',True,['Expected Goals','Goals'])"
      ],
      "metadata": {
        "colab": {
          "base_uri": "https://localhost:8080/",
          "height": 542
        },
        "id": "EgZCQKofLQan",
        "outputId": "9f351202-c927-4a2c-eae2-4afc961ee76f"
      },
      "execution_count": 54,
      "outputs": [
        {
          "output_type": "display_data",
          "data": {
            "text/html": [
              "<html>\n",
              "<head><meta charset=\"utf-8\" /></head>\n",
              "<body>\n",
              "    <div>            <script src=\"https://cdnjs.cloudflare.com/ajax/libs/mathjax/2.7.5/MathJax.js?config=TeX-AMS-MML_SVG\"></script><script type=\"text/javascript\">if (window.MathJax && window.MathJax.Hub && window.MathJax.Hub.Config) {window.MathJax.Hub.Config({SVG: {font: \"STIX-Web\"}});}</script>                <script type=\"text/javascript\">window.PlotlyConfig = {MathJaxConfig: 'local'};</script>\n",
              "        <script src=\"https://cdn.plot.ly/plotly-2.18.2.min.js\"></script>                <div id=\"45d3b161-70c0-437b-8d14-72a0e9bd0988\" class=\"plotly-graph-div\" style=\"height:525px; width:100%;\"></div>            <script type=\"text/javascript\">                                    window.PLOTLYENV=window.PLOTLYENV || {};                                    if (document.getElementById(\"45d3b161-70c0-437b-8d14-72a0e9bd0988\")) {                    Plotly.newPlot(                        \"45d3b161-70c0-437b-8d14-72a0e9bd0988\",                        [{\"hovertemplate\":\"<b>Player:</b> %{customdata[0]}<br><b>Club:</b> %{customdata[1]}<br><b>xG:</b> %{x}<br><b>Gls:</b> %{y}\",\"legendgroup\":\"\",\"marker\":{\"color\":[\"#6CABDD\",\"#6CABDD\",\"#6CABDD\",\"#6CABDD\",\"#6CABDD\",\"#6CABDD\",\"#6CABDD\",\"#6CABDD\",\"#6CABDD\",\"#6CABDD\",\"#6CABDD\",\"#EF0107\",\"#EF0107\",\"#EF0107\",\"#EF0107\",\"#EF0107\",\"#EF0107\",\"#EF0107\",\"#EF0107\",\"#EF0107\",\"#EF0107\",\"#EF0107\",\"#EF0107\",\"#EF0107\",\"#EF0107\",\"#EF3829\",\"#EF3829\",\"#EF3829\",\"#EF3829\",\"#EF3829\",\"#EF3829\",\"#EF3829\",\"#EF3829\",\"#EF3829\",\"#EF3829\",\"#EF3829\",\"#BBBCBC\",\"#BBBCBC\",\"#BBBCBC\",\"#BBBCBC\",\"#BBBCBC\",\"#BBBCBC\",\"#BBBCBC\",\"#BBBCBC\",\"#BBBCBC\",\"#BBBCBC\",\"#BBBCBC\",\"#C8102E\",\"#C8102E\",\"#C8102E\",\"#C8102E\",\"#C8102E\",\"#C8102E\",\"#C8102E\",\"#C8102E\",\"#C8102E\",\"#C8102E\",\"#C8102E\",\"#C8102E\",\"#0057B8\",\"#0057B8\",\"#0057B8\",\"#0057B8\",\"#0057B8\",\"#0057B8\",\"#0057B8\",\"#0057B8\",\"#0057B8\",\"#0057B8\",\"#0057B8\",\"#670E36\",\"#670E36\",\"#670E36\",\"#670E36\",\"#670E36\",\"#670E36\",\"#670E36\",\"#670E36\",\"#670E36\",\"#FFFFFF\",\"#FFFFFF\",\"#FFFFFF\",\"#FFFFFF\",\"#FFFFFF\",\"#FFFFFF\",\"#FFFFFF\",\"#FFFFFF\",\"#FFFFFF\",\"#FFFFFF\",\"#FFFFFF\",\"#E30613\",\"#E30613\",\"#E30613\",\"#E30613\",\"#E30613\",\"#E30613\",\"#E30613\",\"#E30613\",\"#E30613\",\"#FFFFFF\",\"#FFFFFF\",\"#FFFFFF\",\"#FFFFFF\",\"#FFFFFF\",\"#FFFFFF\",\"#FFFFFF\",\"#FFFFFF\",\"#FFFFFF\",\"#FFFFFF\",\"#FFFFFF\",\"#FFFFFF\",\"#A7A5A6\",\"#A7A5A6\",\"#A7A5A6\",\"#A7A5A6\",\"#A7A5A6\",\"#A7A5A6\",\"#A7A5A6\",\"#034694\",\"#034694\",\"#034694\",\"#034694\",\"#034694\",\"#034694\",\"#034694\",\"#034694\",\"#034694\",\"#F6B000\",\"#F6B000\",\"#F6B000\",\"#F6B000\",\"#1BB1E7\",\"#1BB1E7\",\"#1BB1E7\",\"#1BB1E7\",\"#1BB1E7\",\"#1BB1E7\",\"#1BB1E7\",\"#1BB1E7\",\"#1BB1E7\",\"#A89968\",\"#A89968\",\"#A89968\",\"#A89968\",\"#A89968\",\"#A89968\",\"#A89968\",\"#E53233\",\"#E53233\",\"#E53233\",\"#E53233\",\"#E53233\",\"#003399\",\"#003399\",\"#003399\",\"#003399\",\"#003399\",\"#003399\",\"#003399\",\"#003399\",\"#003090\",\"#003090\",\"#003090\",\"#003090\",\"#003090\",\"#003090\",\"#003090\",\"#003090\",\"#003090\",\"#FFCD00\",\"#FFCD00\",\"#FFCD00\",\"#FFCD00\",\"#FFCD00\",\"#FFCD00\",\"#FFCD00\",\"#FFCD00\",\"#FFCD00\",\"#FFCD00\",\"#FFCD00\",\"#FFCD00\",\"gray\",\"gray\",\"gray\",\"gray\",\"gray\",\"gray\",\"gray\",\"gray\",\"gray\"],\"symbol\":\"circle\"},\"mode\":\"markers\",\"name\":\"\",\"orientation\":\"v\",\"showlegend\":false,\"x\":[4.6,28.4,5.6,7.5,2.2,4.6,5.5,5.9,1.0,0.8,7.0,5.1,11.2,10.0,1.3,4.7,9.3,2.2,0.9,1.4,14.0,1.8,8.2,0.8,1.1,9.3,15.4,1.1,5.0,2.5,3.4,6.6,4.2,2.0,6.2,3.0,0.9,4.9,2.8,7.0,7.1,8.0,3.6,17.5,8.2,3.3,1.6,21.7,2.4,2.6,1.3,12.1,2.1,6.2,5.5,6.5,1.2,2.5,0.6,5.4,12.1,8.1,1.7,8.1,9.4,4.4,0.9,5.3,4.0,4.5,16.5,1.2,2.8,5.0,2.4,6.3,5.3,0.6,5.3,21.5,2.0,10.1,1.6,1.0,2.6,2.6,1.7,2.2,1.8,3.3,3.2,2.2,9.8,18.7,3.0,2.4,1.6,5.6,1.5,2.9,1.9,7.3,0.7,3.9,3.4,14.9,2.0,3.3,0.5,1.7,1.2,1.4,2.9,3.2,7.3,3.2,6.5,4.2,11.6,6.2,0.9,2.0,2.5,1.8,1.4,4.9,0.6,5.2,3.9,1.4,2.9,2.4,8.9,4.0,4.4,7.0,6.6,2.2,2.5,3.0,2.6,4.9,9.1,3.1,3.6,4.4,2.2,6.0,8.6,6.6,1.5,1.9,2.5,3.0,3.5,6.2,2.4,5.8,3.3,1.3,2.2,8.9,1.2,8.7,2.4,2.5,6.7,3.5,7.1,4.7,2.1,3.9,1.4,8.1,3.2,0.8,8.6,1.8,3.7,2.9,0.7,5.7,6.6,1.3,2.4,2.1,2.2,1.9,1.7,1.0],\"xaxis\":\"x\",\"y\":[2.0,36.0,7.0,8.0,4.0,5.0,5.0,11.0,2.0,2.0,9.0,3.0,14.0,15.0,2.0,7.0,15.0,3.0,2.0,1.0,11.0,1.0,4.0,1.0,3.0,8.0,17.0,1.0,1.0,1.0,4.0,4.0,6.0,2.0,6.0,3.0,1.0,1.0,4.0,3.0,6.0,11.0,1.0,18.0,10.0,4.0,1.0,19.0,2.0,3.0,0.0,9.0,1.0,7.0,11.0,7.0,3.0,4.0,0.0,9.0,10.0,7.0,1.0,7.0,6.0,7.0,2.0,6.0,4.0,5.0,15.0,1.0,6.0,6.0,1.0,5.0,4.0,0.0,6.0,30.0,4.0,10.0,2.0,2.0,1.0,2.0,2.0,5.0,3.0,1.0,3.0,5.0,9.0,20.0,3.0,3.0,1.0,7.0,4.0,3.0,3.0,4.0,1.0,4.0,5.0,14.0,2.0,5.0,0.0,2.0,4.0,0.0,2.0,4.0,10.0,3.0,7.0,5.0,7.0,6.0,2.0,3.0,3.0,1.0,2.0,4.0,0.0,6.0,6.0,2.0,3.0,4.0,6.0,2.0,4.0,6.0,5.0,3.0,3.0,2.0,5.0,7.0,6.0,5.0,1.0,4.0,3.0,5.0,8.0,10.0,3.0,2.0,2.0,1.0,7.0,4.0,5.0,2.0,3.0,1.0,2.0,13.0,1.0,10.0,2.0,3.0,3.0,4.0,5.0,5.0,1.0,1.0,2.0,13.0,2.0,3.0,4.0,2.0,5.0,4.0,1.0,9.0,5.0,2.0,2.0,2.0,2.0,4.0,2.0,1.0],\"yaxis\":\"y\",\"type\":\"scatter\",\"customdata\":[[\"Rodri\",\"Manchester City\"],[\"Erling Haaland\",\"Manchester City\"],[\"Kevin De Bruyne\",\"Manchester City\"],[\"\\u0130lkay G\\u00fcndo\\u011fan\",\"Manchester City\"],[\"Bernardo Silva\",\"Manchester City\"],[\"Jack Grealish\",\"Manchester City\"],[\"Riyad Mahrez\",\"Manchester City\"],[\"Phil Foden\",\"Manchester City\"],[\"John Stones\",\"Manchester City\"],[\"Jo\\u00e3o Cancelo\",\"Manchester City\"],[\"Juli\\u00e1n \\u00c1lvarez\",\"Manchester City\"],[\"Gabriel Dos Santos\",\"Arsenal\"],[\"Bukayo Saka\",\"Arsenal\"],[\"Martin \\u00d8degaard\",\"Arsenal\"],[\"Ben White\",\"Arsenal\"],[\"Granit Xhaka\",\"Arsenal\"],[\"Martinelli\",\"Arsenal\"],[\"Thomas Partey\",\"Arsenal\"],[\"William Saliba\",\"Arsenal\"],[\"Oleksandr Zinchenko\",\"Arsenal\"],[\"Gabriel Jesus\",\"Arsenal\"],[\"Leandro Trossard\",\"Arsenal\"],[\"Eddie Nketiah\",\"Arsenal\"],[\"Fabio Vieira\",\"Arsenal\"],[\"Reiss Nelson\",\"Arsenal\"],[\"Bruno Fernandes\",\"Manchester United\"],[\"Marcus Rashford\",\"Manchester United\"],[\"Luke Shaw\",\"Manchester United\"],[\"Christian Eriksen\",\"Manchester United\"],[\"Diogo Dalot\",\"Manchester United\"],[\"Casemiro\",\"Manchester United\"],[\"Antony\",\"Manchester United\"],[\"Jadon Sancho\",\"Manchester United\"],[\"Fred\",\"Manchester United\"],[\"Anthony Martial\",\"Manchester United\"],[\"Alejandro Garnacho\",\"Manchester United\"],[\"Kieran Trippier\",\"Newcastle United\"],[\"Fabian Sch\\u00e4r\",\"Newcastle United\"],[\"Bruno Guimar\\u00e3es\",\"Newcastle United\"],[\"Joe Willock\",\"Newcastle United\"],[\"Joelinton\",\"Newcastle United\"],[\"Miguel Almir\\u00f3n\",\"Newcastle United\"],[\"Sean Longstaff\",\"Newcastle United\"],[\"Callum Wilson\",\"Newcastle United\"],[\"Alexander Isak\",\"Newcastle United\"],[\"Jacob Murphy\",\"Newcastle United\"],[\"Allan Saint-Maximin\",\"Newcastle United\"],[\"Mohamed Salah\",\"Liverpool\"],[\"Trent Alexander-Arnold\",\"Liverpool\"],[\"Virgil van Dijk\",\"Liverpool\"],[\"Andrew Robertson\",\"Liverpool\"],[\"Darwin N\\u00fa\\u00f1ez\",\"Liverpool\"],[\"Harvey Elliott\",\"Liverpool\"],[\"Cody Gakpo\",\"Liverpool\"],[\"Roberto Firmino\",\"Liverpool\"],[\"Diogo Jota\",\"Liverpool\"],[\"Curtis Jones\",\"Liverpool\"],[\"Luis D\\u00edaz\",\"Liverpool\"],[\"Kostas Tsimikas\",\"Liverpool\"],[\"Pascal Gro\\u00df\",\"Brighton and Hove Albion\"],[\"Alexis Mac Allister\",\"Brighton and Hove Albion\"],[\"Solly March\",\"Brighton and Hove Albion\"],[\"Pervis Estupi\\u00f1\\u00e1n\",\"Brighton and Hove Albion\"],[\"Kaoru Mitoma\",\"Brighton and Hove Albion\"],[\"Danny Welbeck\",\"Brighton and Hove Albion\"],[\"Leandro Trossard\",\"Brighton and Hove Albion\"],[\"Adam Lallana\",\"Brighton and Hove Albion\"],[\"Evan Ferguson\",\"Brighton and Hove Albion\"],[\"Julio C\\u00e9sar Enciso\",\"Brighton and Hove Albion\"],[\"Deniz Undav\",\"Brighton and Hove Albion\"],[\"Ollie Watkins\",\"Aston Villa\"],[\"Tyrone Mings\",\"Aston Villa\"],[\"Douglas Luiz\",\"Aston Villa\"],[\"Jacob Ramsey\",\"Aston Villa\"],[\"John McGinn\",\"Aston Villa\"],[\"Emi Buend\\u00eda\",\"Aston Villa\"],[\"Leon Bailey\",\"Aston Villa\"],[\"\\u00c1lex Moreno\",\"Aston Villa\"],[\"Danny Ings\",\"Aston Villa\"],[\"Harry Kane\",\"Tottenham Hotspur\"],[\"Pierre H\\u00f8jbjerg\",\"Tottenham Hotspur\"],[\"Son Heung-min\",\"Tottenham Hotspur\"],[\"Eric Dier\",\"Tottenham Hotspur\"],[\"Ben Davies\",\"Tottenham Hotspur\"],[\"Ivan Peri\\u0161i\\u0107\",\"Tottenham Hotspur\"],[\"Dejan Kulusevski\",\"Tottenham Hotspur\"],[\"Emerson\",\"Tottenham Hotspur\"],[\"Rodrigo Bentancur\",\"Tottenham Hotspur\"],[\"Pedro Porro\",\"Tottenham Hotspur\"],[\"Richarlison\",\"Tottenham Hotspur\"],[\"Ben Mee\",\"Brentford\"],[\"Mathias Jensen\",\"Brentford\"],[\"Bryan Mbeumo\",\"Brentford\"],[\"Ivan Toney\",\"Brentford\"],[\"Ethan Pinnock\",\"Brentford\"],[\"Vitaly Janelt\",\"Brentford\"],[\"Christian N\\u00f8rgaard\",\"Brentford\"],[\"Yoane Wissa\",\"Brentford\"],[\"Josh Dasilva\",\"Brentford\"],[\"Jo\\u00e3o Palhinha\",\"Fulham\"],[\"Harrison Reed\",\"Fulham\"],[\"Andreas Pereira\",\"Fulham\"],[\"Kenny Tete\",\"Fulham\"],[\"Bobby Reid\",\"Fulham\"],[\"Willian\",\"Fulham\"],[\"Aleksandar Mitrovi\\u0107\",\"Fulham\"],[\"Harry Wilson\",\"Fulham\"],[\"Carlos Vin\\u00edcius\",\"Fulham\"],[\"Neeskens Kebano\",\"Fulham\"],[\"Daniel James\",\"Fulham\"],[\"Manor Solomon\",\"Fulham\"],[\"Cheick Doucour\\u00e9\",\"Crystal Palace\"],[\"Michael Olise\",\"Crystal Palace\"],[\"Jordan Ayew\",\"Crystal Palace\"],[\"Eberechi Eze\",\"Crystal Palace\"],[\"Jeffrey Schlupp\",\"Crystal Palace\"],[\"Wilfried Zaha\",\"Crystal Palace\"],[\"Odsonne \\u00c9douard\",\"Crystal Palace\"],[\"Kai Havertz\",\"Chelsea\"],[\"Raheem Sterling\",\"Chelsea\"],[\"Kalidou Koulibaly\",\"Chelsea\"],[\"Mason Mount\",\"Chelsea\"],[\"Conor Gallagher\",\"Chelsea\"],[\"Mateo Kova\\u010di\\u0107\",\"Chelsea\"],[\"Ben Chilwell\",\"Chelsea\"],[\"Jo\\u00e3o F\\u00e9lix\",\"Chelsea\"],[\"Hakim Ziyech\",\"Chelsea\"],[\"R\\u00faben Neves\",\"Wolverhampton Wanderers\"],[\"Daniel Podence\",\"Wolverhampton Wanderers\"],[\"Adama Traor\\u00e9\",\"Wolverhampton Wanderers\"],[\"Hwang Hee-chan\",\"Wolverhampton Wanderers\"],[\"Declan Rice\",\"West Ham United\"],[\"Jarrod Bowen\",\"West Ham United\"],[\"Tom\\u00e1\\u0161 Sou\\u010dek\",\"West Ham United\"],[\"Lucas Paquet\\u00e1\",\"West Ham United\"],[\"Sa\\u00efd Benrahma\",\"West Ham United\"],[\"Michail Antonio\",\"West Ham United\"],[\"Pablo Fornals\",\"West Ham United\"],[\"Gianluca Scamacca\",\"West Ham United\"],[\"Danny Ings\",\"West Ham United\"],[\"Jefferson Lerma\",\"Bournemouth\"],[\"Philip Billing\",\"Bournemouth\"],[\"Dominic Solanke\",\"Bournemouth\"],[\"Marcus Tavernier\",\"Bournemouth\"],[\"Dango Ouattara\",\"Bournemouth\"],[\"Kieffer Moore\",\"Bournemouth\"],[\"Jaidon Anthony\",\"Bournemouth\"],[\"Morgan Gibbs-White\",\"Nottingham Forest\"],[\"Brennan Johnson\",\"Nottingham Forest\"],[\"Taiwo Awoniyi\",\"Nottingham Forest\"],[\"Danilo\",\"Nottingham Forest\"],[\"Emmanuel Dennis\",\"Nottingham Forest\"],[\"Alex Iwobi\",\"Everton\"],[\"Amadou Onana\",\"Everton\"],[\"Dwight McNeil\",\"Everton\"],[\"Demarai Gray\",\"Everton\"],[\"Abdoulaye Doucour\\u00e9\",\"Everton\"],[\"Dominic Calvert-Lewin\",\"Everton\"],[\"Anthony Gordon\",\"Everton\"],[\"Michael Keane\",\"Everton\"],[\"Timothy Castagne\",\"Leicester City\"],[\"Harvey Barnes\",\"Leicester City\"],[\"Wout Faes\",\"Leicester City\"],[\"James Maddison\",\"Leicester City\"],[\"Kiernan Dewsbury-Hall\",\"Leicester City\"],[\"Youri Tielemans\",\"Leicester City\"],[\"Jamie Vardy\",\"Leicester City\"],[\"Patson Daka\",\"Leicester City\"],[\"Kelechi Iheanacho\",\"Leicester City\"],[\"Jack Harrison\",\"Leeds United\"],[\"Marc Roca\",\"Leeds United\"],[\"Brenden Aaronson\",\"Leeds United\"],[\"Pascal Struijk\",\"Leeds United\"],[\"Rodrigo\",\"Leeds United\"],[\"Luke Ayling\",\"Leeds United\"],[\"Rasmus Nissen\",\"Leeds United\"],[\"Patrick Bamford\",\"Leeds United\"],[\"Degnand Gnonto\",\"Leeds United\"],[\"Luis Sinisterra\",\"Leeds United\"],[\"Crysencio Summerville\",\"Leeds United\"],[\"Sam Greenwood\",\"Leeds United\"],[\"James Ward-Prowse\",\"Southampton\"],[\"Che Adams\",\"Southampton\"],[\"Romain Perraud\",\"Southampton\"],[\"Stuart Armstrong\",\"Southampton\"],[\"Adam Armstrong\",\"Southampton\"],[\"Theo Walcott\",\"Southampton\"],[\"Carlos Alcaraz\",\"Southampton\"],[\"Kamaldeen Sulemana\",\"Southampton\"],[\"Sekou Mara\",\"Southampton\"]]}],                        {\"template\":{\"data\":{\"barpolar\":[{\"marker\":{\"line\":{\"color\":\"rgb(17,17,17)\",\"width\":0.5},\"pattern\":{\"fillmode\":\"overlay\",\"size\":10,\"solidity\":0.2}},\"type\":\"barpolar\"}],\"bar\":[{\"error_x\":{\"color\":\"#f2f5fa\"},\"error_y\":{\"color\":\"#f2f5fa\"},\"marker\":{\"line\":{\"color\":\"rgb(17,17,17)\",\"width\":0.5},\"pattern\":{\"fillmode\":\"overlay\",\"size\":10,\"solidity\":0.2}},\"type\":\"bar\"}],\"carpet\":[{\"aaxis\":{\"endlinecolor\":\"#A2B1C6\",\"gridcolor\":\"#506784\",\"linecolor\":\"#506784\",\"minorgridcolor\":\"#506784\",\"startlinecolor\":\"#A2B1C6\"},\"baxis\":{\"endlinecolor\":\"#A2B1C6\",\"gridcolor\":\"#506784\",\"linecolor\":\"#506784\",\"minorgridcolor\":\"#506784\",\"startlinecolor\":\"#A2B1C6\"},\"type\":\"carpet\"}],\"choropleth\":[{\"colorbar\":{\"outlinewidth\":0,\"ticks\":\"\"},\"type\":\"choropleth\"}],\"contourcarpet\":[{\"colorbar\":{\"outlinewidth\":0,\"ticks\":\"\"},\"type\":\"contourcarpet\"}],\"contour\":[{\"colorbar\":{\"outlinewidth\":0,\"ticks\":\"\"},\"colorscale\":[[0.0,\"#0d0887\"],[0.1111111111111111,\"#46039f\"],[0.2222222222222222,\"#7201a8\"],[0.3333333333333333,\"#9c179e\"],[0.4444444444444444,\"#bd3786\"],[0.5555555555555556,\"#d8576b\"],[0.6666666666666666,\"#ed7953\"],[0.7777777777777778,\"#fb9f3a\"],[0.8888888888888888,\"#fdca26\"],[1.0,\"#f0f921\"]],\"type\":\"contour\"}],\"heatmapgl\":[{\"colorbar\":{\"outlinewidth\":0,\"ticks\":\"\"},\"colorscale\":[[0.0,\"#0d0887\"],[0.1111111111111111,\"#46039f\"],[0.2222222222222222,\"#7201a8\"],[0.3333333333333333,\"#9c179e\"],[0.4444444444444444,\"#bd3786\"],[0.5555555555555556,\"#d8576b\"],[0.6666666666666666,\"#ed7953\"],[0.7777777777777778,\"#fb9f3a\"],[0.8888888888888888,\"#fdca26\"],[1.0,\"#f0f921\"]],\"type\":\"heatmapgl\"}],\"heatmap\":[{\"colorbar\":{\"outlinewidth\":0,\"ticks\":\"\"},\"colorscale\":[[0.0,\"#0d0887\"],[0.1111111111111111,\"#46039f\"],[0.2222222222222222,\"#7201a8\"],[0.3333333333333333,\"#9c179e\"],[0.4444444444444444,\"#bd3786\"],[0.5555555555555556,\"#d8576b\"],[0.6666666666666666,\"#ed7953\"],[0.7777777777777778,\"#fb9f3a\"],[0.8888888888888888,\"#fdca26\"],[1.0,\"#f0f921\"]],\"type\":\"heatmap\"}],\"histogram2dcontour\":[{\"colorbar\":{\"outlinewidth\":0,\"ticks\":\"\"},\"colorscale\":[[0.0,\"#0d0887\"],[0.1111111111111111,\"#46039f\"],[0.2222222222222222,\"#7201a8\"],[0.3333333333333333,\"#9c179e\"],[0.4444444444444444,\"#bd3786\"],[0.5555555555555556,\"#d8576b\"],[0.6666666666666666,\"#ed7953\"],[0.7777777777777778,\"#fb9f3a\"],[0.8888888888888888,\"#fdca26\"],[1.0,\"#f0f921\"]],\"type\":\"histogram2dcontour\"}],\"histogram2d\":[{\"colorbar\":{\"outlinewidth\":0,\"ticks\":\"\"},\"colorscale\":[[0.0,\"#0d0887\"],[0.1111111111111111,\"#46039f\"],[0.2222222222222222,\"#7201a8\"],[0.3333333333333333,\"#9c179e\"],[0.4444444444444444,\"#bd3786\"],[0.5555555555555556,\"#d8576b\"],[0.6666666666666666,\"#ed7953\"],[0.7777777777777778,\"#fb9f3a\"],[0.8888888888888888,\"#fdca26\"],[1.0,\"#f0f921\"]],\"type\":\"histogram2d\"}],\"histogram\":[{\"marker\":{\"pattern\":{\"fillmode\":\"overlay\",\"size\":10,\"solidity\":0.2}},\"type\":\"histogram\"}],\"mesh3d\":[{\"colorbar\":{\"outlinewidth\":0,\"ticks\":\"\"},\"type\":\"mesh3d\"}],\"parcoords\":[{\"line\":{\"colorbar\":{\"outlinewidth\":0,\"ticks\":\"\"}},\"type\":\"parcoords\"}],\"pie\":[{\"automargin\":true,\"type\":\"pie\"}],\"scatter3d\":[{\"line\":{\"colorbar\":{\"outlinewidth\":0,\"ticks\":\"\"}},\"marker\":{\"colorbar\":{\"outlinewidth\":0,\"ticks\":\"\"}},\"type\":\"scatter3d\"}],\"scattercarpet\":[{\"marker\":{\"colorbar\":{\"outlinewidth\":0,\"ticks\":\"\"}},\"type\":\"scattercarpet\"}],\"scattergeo\":[{\"marker\":{\"colorbar\":{\"outlinewidth\":0,\"ticks\":\"\"}},\"type\":\"scattergeo\"}],\"scattergl\":[{\"marker\":{\"line\":{\"color\":\"#283442\"}},\"type\":\"scattergl\"}],\"scattermapbox\":[{\"marker\":{\"colorbar\":{\"outlinewidth\":0,\"ticks\":\"\"}},\"type\":\"scattermapbox\"}],\"scatterpolargl\":[{\"marker\":{\"colorbar\":{\"outlinewidth\":0,\"ticks\":\"\"}},\"type\":\"scatterpolargl\"}],\"scatterpolar\":[{\"marker\":{\"colorbar\":{\"outlinewidth\":0,\"ticks\":\"\"}},\"type\":\"scatterpolar\"}],\"scatter\":[{\"marker\":{\"line\":{\"color\":\"#283442\"}},\"type\":\"scatter\"}],\"scatterternary\":[{\"marker\":{\"colorbar\":{\"outlinewidth\":0,\"ticks\":\"\"}},\"type\":\"scatterternary\"}],\"surface\":[{\"colorbar\":{\"outlinewidth\":0,\"ticks\":\"\"},\"colorscale\":[[0.0,\"#0d0887\"],[0.1111111111111111,\"#46039f\"],[0.2222222222222222,\"#7201a8\"],[0.3333333333333333,\"#9c179e\"],[0.4444444444444444,\"#bd3786\"],[0.5555555555555556,\"#d8576b\"],[0.6666666666666666,\"#ed7953\"],[0.7777777777777778,\"#fb9f3a\"],[0.8888888888888888,\"#fdca26\"],[1.0,\"#f0f921\"]],\"type\":\"surface\"}],\"table\":[{\"cells\":{\"fill\":{\"color\":\"#506784\"},\"line\":{\"color\":\"rgb(17,17,17)\"}},\"header\":{\"fill\":{\"color\":\"#2a3f5f\"},\"line\":{\"color\":\"rgb(17,17,17)\"}},\"type\":\"table\"}]},\"layout\":{\"annotationdefaults\":{\"arrowcolor\":\"#f2f5fa\",\"arrowhead\":0,\"arrowwidth\":1},\"autotypenumbers\":\"strict\",\"coloraxis\":{\"colorbar\":{\"outlinewidth\":0,\"ticks\":\"\"}},\"colorscale\":{\"diverging\":[[0,\"#8e0152\"],[0.1,\"#c51b7d\"],[0.2,\"#de77ae\"],[0.3,\"#f1b6da\"],[0.4,\"#fde0ef\"],[0.5,\"#f7f7f7\"],[0.6,\"#e6f5d0\"],[0.7,\"#b8e186\"],[0.8,\"#7fbc41\"],[0.9,\"#4d9221\"],[1,\"#276419\"]],\"sequential\":[[0.0,\"#0d0887\"],[0.1111111111111111,\"#46039f\"],[0.2222222222222222,\"#7201a8\"],[0.3333333333333333,\"#9c179e\"],[0.4444444444444444,\"#bd3786\"],[0.5555555555555556,\"#d8576b\"],[0.6666666666666666,\"#ed7953\"],[0.7777777777777778,\"#fb9f3a\"],[0.8888888888888888,\"#fdca26\"],[1.0,\"#f0f921\"]],\"sequentialminus\":[[0.0,\"#0d0887\"],[0.1111111111111111,\"#46039f\"],[0.2222222222222222,\"#7201a8\"],[0.3333333333333333,\"#9c179e\"],[0.4444444444444444,\"#bd3786\"],[0.5555555555555556,\"#d8576b\"],[0.6666666666666666,\"#ed7953\"],[0.7777777777777778,\"#fb9f3a\"],[0.8888888888888888,\"#fdca26\"],[1.0,\"#f0f921\"]]},\"colorway\":[\"#636efa\",\"#EF553B\",\"#00cc96\",\"#ab63fa\",\"#FFA15A\",\"#19d3f3\",\"#FF6692\",\"#B6E880\",\"#FF97FF\",\"#FECB52\"],\"font\":{\"color\":\"#f2f5fa\"},\"geo\":{\"bgcolor\":\"rgb(17,17,17)\",\"lakecolor\":\"rgb(17,17,17)\",\"landcolor\":\"rgb(17,17,17)\",\"showlakes\":true,\"showland\":true,\"subunitcolor\":\"#506784\"},\"hoverlabel\":{\"align\":\"left\"},\"hovermode\":\"closest\",\"mapbox\":{\"style\":\"dark\"},\"paper_bgcolor\":\"rgb(17,17,17)\",\"plot_bgcolor\":\"rgb(17,17,17)\",\"polar\":{\"angularaxis\":{\"gridcolor\":\"#506784\",\"linecolor\":\"#506784\",\"ticks\":\"\"},\"bgcolor\":\"rgb(17,17,17)\",\"radialaxis\":{\"gridcolor\":\"#506784\",\"linecolor\":\"#506784\",\"ticks\":\"\"}},\"scene\":{\"xaxis\":{\"backgroundcolor\":\"rgb(17,17,17)\",\"gridcolor\":\"#506784\",\"gridwidth\":2,\"linecolor\":\"#506784\",\"showbackground\":true,\"ticks\":\"\",\"zerolinecolor\":\"#C8D4E3\"},\"yaxis\":{\"backgroundcolor\":\"rgb(17,17,17)\",\"gridcolor\":\"#506784\",\"gridwidth\":2,\"linecolor\":\"#506784\",\"showbackground\":true,\"ticks\":\"\",\"zerolinecolor\":\"#C8D4E3\"},\"zaxis\":{\"backgroundcolor\":\"rgb(17,17,17)\",\"gridcolor\":\"#506784\",\"gridwidth\":2,\"linecolor\":\"#506784\",\"showbackground\":true,\"ticks\":\"\",\"zerolinecolor\":\"#C8D4E3\"}},\"shapedefaults\":{\"line\":{\"color\":\"#f2f5fa\"}},\"sliderdefaults\":{\"bgcolor\":\"#C8D4E3\",\"bordercolor\":\"rgb(17,17,17)\",\"borderwidth\":1,\"tickwidth\":0},\"ternary\":{\"aaxis\":{\"gridcolor\":\"#506784\",\"linecolor\":\"#506784\",\"ticks\":\"\"},\"baxis\":{\"gridcolor\":\"#506784\",\"linecolor\":\"#506784\",\"ticks\":\"\"},\"bgcolor\":\"rgb(17,17,17)\",\"caxis\":{\"gridcolor\":\"#506784\",\"linecolor\":\"#506784\",\"ticks\":\"\"}},\"title\":{\"x\":0.05},\"updatemenudefaults\":{\"bgcolor\":\"#506784\",\"borderwidth\":0},\"xaxis\":{\"automargin\":true,\"gridcolor\":\"#283442\",\"linecolor\":\"#506784\",\"ticks\":\"\",\"title\":{\"standoff\":15},\"zerolinecolor\":\"#283442\",\"zerolinewidth\":2},\"yaxis\":{\"automargin\":true,\"gridcolor\":\"#283442\",\"linecolor\":\"#506784\",\"ticks\":\"\",\"title\":{\"standoff\":15},\"zerolinecolor\":\"#283442\",\"zerolinewidth\":2}}},\"xaxis\":{\"anchor\":\"y\",\"domain\":[0.0,1.0],\"title\":{\"text\":\"Expected Goals\"}},\"yaxis\":{\"anchor\":\"x\",\"domain\":[0.0,1.0],\"title\":{\"text\":\"Goals\"}},\"legend\":{\"tracegroupgap\":0},\"title\":{\"text\":\"Expected Goals vs Goals\"},\"shapes\":[{\"line\":{\"color\":\"gray\",\"dash\":\"dot\"},\"type\":\"line\",\"x0\":0.5,\"x1\":28.4,\"y0\":0.5,\"y1\":28.4}]},                        {\"responsive\": true}                    ).then(function(){\n",
              "                            \n",
              "var gd = document.getElementById('45d3b161-70c0-437b-8d14-72a0e9bd0988');\n",
              "var x = new MutationObserver(function (mutations, observer) {{\n",
              "        var display = window.getComputedStyle(gd).display;\n",
              "        if (!display || display === 'none') {{\n",
              "            console.log([gd, 'removed!']);\n",
              "            Plotly.purge(gd);\n",
              "            observer.disconnect();\n",
              "        }}\n",
              "}});\n",
              "\n",
              "// Listen for the removal of the full notebook cells\n",
              "var notebookContainer = gd.closest('#notebook-container');\n",
              "if (notebookContainer) {{\n",
              "    x.observe(notebookContainer, {childList: true});\n",
              "}}\n",
              "\n",
              "// Listen for the clearing of the current output cell\n",
              "var outputEl = gd.closest('.output');\n",
              "if (outputEl) {{\n",
              "    x.observe(outputEl, {childList: true});\n",
              "}}\n",
              "\n",
              "                        })                };                            </script>        </div>\n",
              "</body>\n",
              "</html>"
            ]
          },
          "metadata": {}
        }
      ]
    },
    {
      "cell_type": "markdown",
      "source": [
        "**Erling Haaland (28.4,36)**: There is not much to say that have not been said already about Haaland. The robot not only puts himself in an absurd number of goal-scoring positions but also converts them frequently. With 36 G to 28.4 xG, Haaland has scored 7.6 goals more than expected. More terrifyingly, this is just his first (and hopefully best) season in the Premier League.\n",
        "<br><br>\n",
        "**Harry Kane (21.5,30)**: The only player that has outperformed more than Haaland is Harry Kane, who scored 8.5 goals more than expected. Year after year, Harry Kane keeps Spurs from being a mid-bottom table team; he should get a trophy for that.\n",
        "<br><br>\n",
        "**Ivan Toney (18.7,20)**: A decent number 9 who has capitalised on chances well. Considering the scarce striker market right now, he could have had a big move this summer if not for the suspension. What a shame.\n",
        "<br><br>\n",
        "**Mohamed Salah (21.7,19)**: A much quieter season for last years golden boot winners. Salah still scored many goals (especially compared to Son) but was less clinical in his finishes. Given his 21.7 xG, he should have at least 2 more goals.\n",
        "<br><br>\n",
        "**Darwin Nuńez (12.1,9)**: I always thought the memes about his end product is somewhat unjustified. Firstly, there are plenty of people who were more underwhelming like Havertz. Secondly, at least Nuńez is getting himself into a decent number of goal scoring positions as reflected by his 12.1 xG. He has already shown great improvement and will only get better. Him missing left right and center earlier this season was pretty hilarious though. \n",
        "<br><br>\n",
        "**Gabriel Jesus (14,11)**: Because of his involvement in build up play, Jesus is often not in the box for key goal-scoring moments. And when he does find his way there, he is not as clinical as others strikers. Although Jesus brings a lot to the team through linkup play, ball-carrying ability, and overall creativity, Arteta should definitely look elsewhere for a more traditional goal-scoring number 9."
      ],
      "metadata": {
        "id": "oMW92bNZUgHd"
      }
    },
    {
      "cell_type": "markdown",
      "source": [
        "## xAG vs A: Who were lucky with assists?\n",
        "Expected assisted goals do not always lead to actual assists. Once a player makes the final pass, he relies on his teammate to convert that opportunity. A comparison of actual assists to expected assisted goals (xAG) allows us to see who has been lucky and who has not.\n",
        "\n",
        "A > xAG  (illustrated by a datapoint above the linear trend line) imply greater luck. Thanks to great finishing ability from teammates, a player achieved more assists than expected based on the quality of his passes.\n",
        "\n",
        "On the other hand A < xAG  (illustrated by a datapoint below the linear trend line) imply poorer luck. A player can supply great chances for assists but ultimately not get them because of his teammate inability to finish the job and convert."
      ],
      "metadata": {
        "id": "rx1C_ixN_nke"
      }
    },
    {
      "cell_type": "code",
      "source": [
        "plotExpectedStats(df_3ga,'xAG','Ast',True,['Expected Assisted Goals','Assists'])"
      ],
      "metadata": {
        "colab": {
          "base_uri": "https://localhost:8080/",
          "height": 542
        },
        "id": "QtDamYyDLyxz",
        "outputId": "7415f95e-b962-4873-bfd7-4e1a3c2f283f"
      },
      "execution_count": 55,
      "outputs": [
        {
          "output_type": "display_data",
          "data": {
            "text/html": [
              "<html>\n",
              "<head><meta charset=\"utf-8\" /></head>\n",
              "<body>\n",
              "    <div>            <script src=\"https://cdnjs.cloudflare.com/ajax/libs/mathjax/2.7.5/MathJax.js?config=TeX-AMS-MML_SVG\"></script><script type=\"text/javascript\">if (window.MathJax && window.MathJax.Hub && window.MathJax.Hub.Config) {window.MathJax.Hub.Config({SVG: {font: \"STIX-Web\"}});}</script>                <script type=\"text/javascript\">window.PlotlyConfig = {MathJaxConfig: 'local'};</script>\n",
              "        <script src=\"https://cdn.plot.ly/plotly-2.18.2.min.js\"></script>                <div id=\"d30c5108-47e1-4f3f-8a21-b4db67997c9d\" class=\"plotly-graph-div\" style=\"height:525px; width:100%;\"></div>            <script type=\"text/javascript\">                                    window.PLOTLYENV=window.PLOTLYENV || {};                                    if (document.getElementById(\"d30c5108-47e1-4f3f-8a21-b4db67997c9d\")) {                    Plotly.newPlot(                        \"d30c5108-47e1-4f3f-8a21-b4db67997c9d\",                        [{\"hovertemplate\":\"<b>Player:</b> %{customdata[0]}<br><b>Club:</b> %{customdata[1]}<br><b>xAG:</b> %{x}<br><b>Ast:</b> %{y}\",\"legendgroup\":\"\",\"marker\":{\"color\":[\"#6CABDD\",\"#6CABDD\",\"#6CABDD\",\"#6CABDD\",\"#6CABDD\",\"#6CABDD\",\"#6CABDD\",\"#6CABDD\",\"#6CABDD\",\"#6CABDD\",\"#6CABDD\",\"#EF0107\",\"#EF0107\",\"#EF0107\",\"#EF0107\",\"#EF0107\",\"#EF0107\",\"#EF0107\",\"#EF0107\",\"#EF0107\",\"#EF0107\",\"#EF0107\",\"#EF0107\",\"#EF0107\",\"#EF0107\",\"#EF3829\",\"#EF3829\",\"#EF3829\",\"#EF3829\",\"#EF3829\",\"#EF3829\",\"#EF3829\",\"#EF3829\",\"#EF3829\",\"#EF3829\",\"#EF3829\",\"#BBBCBC\",\"#BBBCBC\",\"#BBBCBC\",\"#BBBCBC\",\"#BBBCBC\",\"#BBBCBC\",\"#BBBCBC\",\"#BBBCBC\",\"#BBBCBC\",\"#BBBCBC\",\"#BBBCBC\",\"#C8102E\",\"#C8102E\",\"#C8102E\",\"#C8102E\",\"#C8102E\",\"#C8102E\",\"#C8102E\",\"#C8102E\",\"#C8102E\",\"#C8102E\",\"#C8102E\",\"#C8102E\",\"#0057B8\",\"#0057B8\",\"#0057B8\",\"#0057B8\",\"#0057B8\",\"#0057B8\",\"#0057B8\",\"#0057B8\",\"#0057B8\",\"#0057B8\",\"#0057B8\",\"#670E36\",\"#670E36\",\"#670E36\",\"#670E36\",\"#670E36\",\"#670E36\",\"#670E36\",\"#670E36\",\"#670E36\",\"#FFFFFF\",\"#FFFFFF\",\"#FFFFFF\",\"#FFFFFF\",\"#FFFFFF\",\"#FFFFFF\",\"#FFFFFF\",\"#FFFFFF\",\"#FFFFFF\",\"#FFFFFF\",\"#FFFFFF\",\"#E30613\",\"#E30613\",\"#E30613\",\"#E30613\",\"#E30613\",\"#E30613\",\"#E30613\",\"#E30613\",\"#E30613\",\"#FFFFFF\",\"#FFFFFF\",\"#FFFFFF\",\"#FFFFFF\",\"#FFFFFF\",\"#FFFFFF\",\"#FFFFFF\",\"#FFFFFF\",\"#FFFFFF\",\"#FFFFFF\",\"#FFFFFF\",\"#FFFFFF\",\"#A7A5A6\",\"#A7A5A6\",\"#A7A5A6\",\"#A7A5A6\",\"#A7A5A6\",\"#A7A5A6\",\"#A7A5A6\",\"#034694\",\"#034694\",\"#034694\",\"#034694\",\"#034694\",\"#034694\",\"#034694\",\"#034694\",\"#034694\",\"#F6B000\",\"#F6B000\",\"#F6B000\",\"#F6B000\",\"#1BB1E7\",\"#1BB1E7\",\"#1BB1E7\",\"#1BB1E7\",\"#1BB1E7\",\"#1BB1E7\",\"#1BB1E7\",\"#1BB1E7\",\"#1BB1E7\",\"#A89968\",\"#A89968\",\"#A89968\",\"#A89968\",\"#A89968\",\"#A89968\",\"#A89968\",\"#E53233\",\"#E53233\",\"#E53233\",\"#E53233\",\"#E53233\",\"#003399\",\"#003399\",\"#003399\",\"#003399\",\"#003399\",\"#003399\",\"#003399\",\"#003399\",\"#003090\",\"#003090\",\"#003090\",\"#003090\",\"#003090\",\"#003090\",\"#003090\",\"#003090\",\"#003090\",\"#FFCD00\",\"#FFCD00\",\"#FFCD00\",\"#FFCD00\",\"#FFCD00\",\"#FFCD00\",\"#FFCD00\",\"#FFCD00\",\"#FFCD00\",\"#FFCD00\",\"#FFCD00\",\"#FFCD00\",\"gray\",\"gray\",\"gray\",\"gray\",\"gray\",\"gray\",\"gray\",\"gray\",\"gray\"],\"symbol\":\"circle\"},\"mode\":\"markers\",\"name\":\"\",\"orientation\":\"v\",\"showlegend\":false,\"x\":[4.1,5.3,13.7,3.3,3.3,7.0,7.0,4.7,1.4,0.9,1.8,0.3,8.5,8.1,3.2,5.2,9.1,1.5,1.2,1.4,3.9,4.7,1.3,2.5,1.4,16.7,3.4,3.6,4.2,1.9,3.1,2.9,5.0,2.9,1.4,1.0,12.4,3.3,4.0,6.0,2.4,3.2,3.3,2.7,2.2,2.8,4.6,7.7,11.5,1.2,6.1,5.4,3.6,2.7,2.5,2.1,1.1,1.5,1.6,10.9,4.3,8.4,5.4,6.4,4.3,2.1,1.0,0.7,1.7,1.1,3.8,1.4,4.4,5.1,2.6,5.7,4.8,3.0,1.2,7.0,3.1,6.5,1.2,2.5,6.1,4.7,0.6,0.8,3.0,2.2,1.3,5.0,7.6,5.1,1.0,1.4,3.1,2.5,1.5,0.4,4.1,5.2,1.9,1.7,4.4,2.3,0.9,0.8,1.5,0.7,0.4,1.9,8.7,3.2,4.3,1.4,2.7,1.2,3.7,4.6,0.4,3.0,2.3,2.1,2.2,0.5,2.2,1.6,2.5,3.7,1.1,3.2,7.4,1.9,2.5,4.5,1.3,1.7,0.7,1.0,2.3,3.2,3.9,2.9,2.5,0.3,1.0,8.2,3.2,1.1,0.7,0.6,6.1,2.6,6.1,3.8,2.2,0.8,0.6,0.7,2.6,3.1,0.6,9.3,3.3,4.7,1.4,2.8,4.0,5.1,2.9,4.2,2.4,1.8,2.0,1.0,1.0,2.2,0.4,1.6,1.1,6.2,2.8,1.9,2.2,1.3,2.0,0.7,1.3,0.8],\"xaxis\":\"x\",\"y\":[6.0,8.0,16.0,4.0,5.0,7.0,10.0,6.0,2.0,1.0,0.0,0.0,11.0,7.0,5.0,7.0,5.0,0.0,1.0,2.0,6.0,10.0,1.0,2.0,2.0,8.0,5.0,2.0,8.0,2.0,3.0,2.0,3.0,2.0,2.0,2.0,7.0,3.0,5.0,6.0,1.0,2.0,4.0,5.0,1.0,2.0,5.0,12.0,9.0,1.0,8.0,3.0,2.0,2.0,4.0,4.0,1.0,2.0,4.0,8.0,2.0,7.0,5.0,5.0,3.0,2.0,1.0,2.0,2.0,0.0,6.0,2.0,6.0,7.0,3.0,2.0,4.0,3.0,0.0,3.0,5.0,6.0,1.0,2.0,8.0,7.0,1.0,2.0,3.0,3.0,1.0,6.0,8.0,4.0,0.0,1.0,3.0,3.0,2.0,0.0,4.0,6.0,5.0,1.0,5.0,1.0,3.0,2.0,3.0,1.0,0.0,3.0,11.0,3.0,4.0,1.0,2.0,2.0,1.0,3.0,1.0,2.0,1.0,2.0,2.0,0.0,3.0,1.0,0.0,1.0,1.0,1.0,5.0,3.0,3.0,3.0,3.0,1.0,0.0,2.0,0.0,1.0,7.0,4.0,3.0,0.0,1.0,8.0,3.0,1.0,2.0,2.0,7.0,2.0,3.0,1.0,2.0,1.0,0.0,2.0,3.0,1.0,2.0,9.0,2.0,2.0,4.0,4.0,5.0,7.0,2.0,3.0,1.0,1.0,1.0,1.0,2.0,4.0,0.0,2.0,2.0,4.0,3.0,2.0,1.0,1.0,2.0,2.0,1.0,2.0],\"yaxis\":\"y\",\"type\":\"scatter\",\"customdata\":[[\"Rodri\",\"Manchester City\"],[\"Erling Haaland\",\"Manchester City\"],[\"Kevin De Bruyne\",\"Manchester City\"],[\"\\u0130lkay G\\u00fcndo\\u011fan\",\"Manchester City\"],[\"Bernardo Silva\",\"Manchester City\"],[\"Jack Grealish\",\"Manchester City\"],[\"Riyad Mahrez\",\"Manchester City\"],[\"Phil Foden\",\"Manchester City\"],[\"John Stones\",\"Manchester City\"],[\"Jo\\u00e3o Cancelo\",\"Manchester City\"],[\"Juli\\u00e1n \\u00c1lvarez\",\"Manchester City\"],[\"Gabriel Dos Santos\",\"Arsenal\"],[\"Bukayo Saka\",\"Arsenal\"],[\"Martin \\u00d8degaard\",\"Arsenal\"],[\"Ben White\",\"Arsenal\"],[\"Granit Xhaka\",\"Arsenal\"],[\"Martinelli\",\"Arsenal\"],[\"Thomas Partey\",\"Arsenal\"],[\"William Saliba\",\"Arsenal\"],[\"Oleksandr Zinchenko\",\"Arsenal\"],[\"Gabriel Jesus\",\"Arsenal\"],[\"Leandro Trossard\",\"Arsenal\"],[\"Eddie Nketiah\",\"Arsenal\"],[\"Fabio Vieira\",\"Arsenal\"],[\"Reiss Nelson\",\"Arsenal\"],[\"Bruno Fernandes\",\"Manchester United\"],[\"Marcus Rashford\",\"Manchester United\"],[\"Luke Shaw\",\"Manchester United\"],[\"Christian Eriksen\",\"Manchester United\"],[\"Diogo Dalot\",\"Manchester United\"],[\"Casemiro\",\"Manchester United\"],[\"Antony\",\"Manchester United\"],[\"Jadon Sancho\",\"Manchester United\"],[\"Fred\",\"Manchester United\"],[\"Anthony Martial\",\"Manchester United\"],[\"Alejandro Garnacho\",\"Manchester United\"],[\"Kieran Trippier\",\"Newcastle United\"],[\"Fabian Sch\\u00e4r\",\"Newcastle United\"],[\"Bruno Guimar\\u00e3es\",\"Newcastle United\"],[\"Joe Willock\",\"Newcastle United\"],[\"Joelinton\",\"Newcastle United\"],[\"Miguel Almir\\u00f3n\",\"Newcastle United\"],[\"Sean Longstaff\",\"Newcastle United\"],[\"Callum Wilson\",\"Newcastle United\"],[\"Alexander Isak\",\"Newcastle United\"],[\"Jacob Murphy\",\"Newcastle United\"],[\"Allan Saint-Maximin\",\"Newcastle United\"],[\"Mohamed Salah\",\"Liverpool\"],[\"Trent Alexander-Arnold\",\"Liverpool\"],[\"Virgil van Dijk\",\"Liverpool\"],[\"Andrew Robertson\",\"Liverpool\"],[\"Darwin N\\u00fa\\u00f1ez\",\"Liverpool\"],[\"Harvey Elliott\",\"Liverpool\"],[\"Cody Gakpo\",\"Liverpool\"],[\"Roberto Firmino\",\"Liverpool\"],[\"Diogo Jota\",\"Liverpool\"],[\"Curtis Jones\",\"Liverpool\"],[\"Luis D\\u00edaz\",\"Liverpool\"],[\"Kostas Tsimikas\",\"Liverpool\"],[\"Pascal Gro\\u00df\",\"Brighton and Hove Albion\"],[\"Alexis Mac Allister\",\"Brighton and Hove Albion\"],[\"Solly March\",\"Brighton and Hove Albion\"],[\"Pervis Estupi\\u00f1\\u00e1n\",\"Brighton and Hove Albion\"],[\"Kaoru Mitoma\",\"Brighton and Hove Albion\"],[\"Danny Welbeck\",\"Brighton and Hove Albion\"],[\"Leandro Trossard\",\"Brighton and Hove Albion\"],[\"Adam Lallana\",\"Brighton and Hove Albion\"],[\"Evan Ferguson\",\"Brighton and Hove Albion\"],[\"Julio C\\u00e9sar Enciso\",\"Brighton and Hove Albion\"],[\"Deniz Undav\",\"Brighton and Hove Albion\"],[\"Ollie Watkins\",\"Aston Villa\"],[\"Tyrone Mings\",\"Aston Villa\"],[\"Douglas Luiz\",\"Aston Villa\"],[\"Jacob Ramsey\",\"Aston Villa\"],[\"John McGinn\",\"Aston Villa\"],[\"Emi Buend\\u00eda\",\"Aston Villa\"],[\"Leon Bailey\",\"Aston Villa\"],[\"\\u00c1lex Moreno\",\"Aston Villa\"],[\"Danny Ings\",\"Aston Villa\"],[\"Harry Kane\",\"Tottenham Hotspur\"],[\"Pierre H\\u00f8jbjerg\",\"Tottenham Hotspur\"],[\"Son Heung-min\",\"Tottenham Hotspur\"],[\"Eric Dier\",\"Tottenham Hotspur\"],[\"Ben Davies\",\"Tottenham Hotspur\"],[\"Ivan Peri\\u0161i\\u0107\",\"Tottenham Hotspur\"],[\"Dejan Kulusevski\",\"Tottenham Hotspur\"],[\"Emerson\",\"Tottenham Hotspur\"],[\"Rodrigo Bentancur\",\"Tottenham Hotspur\"],[\"Pedro Porro\",\"Tottenham Hotspur\"],[\"Richarlison\",\"Tottenham Hotspur\"],[\"Ben Mee\",\"Brentford\"],[\"Mathias Jensen\",\"Brentford\"],[\"Bryan Mbeumo\",\"Brentford\"],[\"Ivan Toney\",\"Brentford\"],[\"Ethan Pinnock\",\"Brentford\"],[\"Vitaly Janelt\",\"Brentford\"],[\"Christian N\\u00f8rgaard\",\"Brentford\"],[\"Yoane Wissa\",\"Brentford\"],[\"Josh Dasilva\",\"Brentford\"],[\"Jo\\u00e3o Palhinha\",\"Fulham\"],[\"Harrison Reed\",\"Fulham\"],[\"Andreas Pereira\",\"Fulham\"],[\"Kenny Tete\",\"Fulham\"],[\"Bobby Reid\",\"Fulham\"],[\"Willian\",\"Fulham\"],[\"Aleksandar Mitrovi\\u0107\",\"Fulham\"],[\"Harry Wilson\",\"Fulham\"],[\"Carlos Vin\\u00edcius\",\"Fulham\"],[\"Neeskens Kebano\",\"Fulham\"],[\"Daniel James\",\"Fulham\"],[\"Manor Solomon\",\"Fulham\"],[\"Cheick Doucour\\u00e9\",\"Crystal Palace\"],[\"Michael Olise\",\"Crystal Palace\"],[\"Jordan Ayew\",\"Crystal Palace\"],[\"Eberechi Eze\",\"Crystal Palace\"],[\"Jeffrey Schlupp\",\"Crystal Palace\"],[\"Wilfried Zaha\",\"Crystal Palace\"],[\"Odsonne \\u00c9douard\",\"Crystal Palace\"],[\"Kai Havertz\",\"Chelsea\"],[\"Raheem Sterling\",\"Chelsea\"],[\"Kalidou Koulibaly\",\"Chelsea\"],[\"Mason Mount\",\"Chelsea\"],[\"Conor Gallagher\",\"Chelsea\"],[\"Mateo Kova\\u010di\\u0107\",\"Chelsea\"],[\"Ben Chilwell\",\"Chelsea\"],[\"Jo\\u00e3o F\\u00e9lix\",\"Chelsea\"],[\"Hakim Ziyech\",\"Chelsea\"],[\"R\\u00faben Neves\",\"Wolverhampton Wanderers\"],[\"Daniel Podence\",\"Wolverhampton Wanderers\"],[\"Adama Traor\\u00e9\",\"Wolverhampton Wanderers\"],[\"Hwang Hee-chan\",\"Wolverhampton Wanderers\"],[\"Declan Rice\",\"West Ham United\"],[\"Jarrod Bowen\",\"West Ham United\"],[\"Tom\\u00e1\\u0161 Sou\\u010dek\",\"West Ham United\"],[\"Lucas Paquet\\u00e1\",\"West Ham United\"],[\"Sa\\u00efd Benrahma\",\"West Ham United\"],[\"Michail Antonio\",\"West Ham United\"],[\"Pablo Fornals\",\"West Ham United\"],[\"Gianluca Scamacca\",\"West Ham United\"],[\"Danny Ings\",\"West Ham United\"],[\"Jefferson Lerma\",\"Bournemouth\"],[\"Philip Billing\",\"Bournemouth\"],[\"Dominic Solanke\",\"Bournemouth\"],[\"Marcus Tavernier\",\"Bournemouth\"],[\"Dango Ouattara\",\"Bournemouth\"],[\"Kieffer Moore\",\"Bournemouth\"],[\"Jaidon Anthony\",\"Bournemouth\"],[\"Morgan Gibbs-White\",\"Nottingham Forest\"],[\"Brennan Johnson\",\"Nottingham Forest\"],[\"Taiwo Awoniyi\",\"Nottingham Forest\"],[\"Danilo\",\"Nottingham Forest\"],[\"Emmanuel Dennis\",\"Nottingham Forest\"],[\"Alex Iwobi\",\"Everton\"],[\"Amadou Onana\",\"Everton\"],[\"Dwight McNeil\",\"Everton\"],[\"Demarai Gray\",\"Everton\"],[\"Abdoulaye Doucour\\u00e9\",\"Everton\"],[\"Dominic Calvert-Lewin\",\"Everton\"],[\"Anthony Gordon\",\"Everton\"],[\"Michael Keane\",\"Everton\"],[\"Timothy Castagne\",\"Leicester City\"],[\"Harvey Barnes\",\"Leicester City\"],[\"Wout Faes\",\"Leicester City\"],[\"James Maddison\",\"Leicester City\"],[\"Kiernan Dewsbury-Hall\",\"Leicester City\"],[\"Youri Tielemans\",\"Leicester City\"],[\"Jamie Vardy\",\"Leicester City\"],[\"Patson Daka\",\"Leicester City\"],[\"Kelechi Iheanacho\",\"Leicester City\"],[\"Jack Harrison\",\"Leeds United\"],[\"Marc Roca\",\"Leeds United\"],[\"Brenden Aaronson\",\"Leeds United\"],[\"Pascal Struijk\",\"Leeds United\"],[\"Rodrigo\",\"Leeds United\"],[\"Luke Ayling\",\"Leeds United\"],[\"Rasmus Nissen\",\"Leeds United\"],[\"Patrick Bamford\",\"Leeds United\"],[\"Degnand Gnonto\",\"Leeds United\"],[\"Luis Sinisterra\",\"Leeds United\"],[\"Crysencio Summerville\",\"Leeds United\"],[\"Sam Greenwood\",\"Leeds United\"],[\"James Ward-Prowse\",\"Southampton\"],[\"Che Adams\",\"Southampton\"],[\"Romain Perraud\",\"Southampton\"],[\"Stuart Armstrong\",\"Southampton\"],[\"Adam Armstrong\",\"Southampton\"],[\"Theo Walcott\",\"Southampton\"],[\"Carlos Alcaraz\",\"Southampton\"],[\"Kamaldeen Sulemana\",\"Southampton\"],[\"Sekou Mara\",\"Southampton\"]]}],                        {\"template\":{\"data\":{\"barpolar\":[{\"marker\":{\"line\":{\"color\":\"rgb(17,17,17)\",\"width\":0.5},\"pattern\":{\"fillmode\":\"overlay\",\"size\":10,\"solidity\":0.2}},\"type\":\"barpolar\"}],\"bar\":[{\"error_x\":{\"color\":\"#f2f5fa\"},\"error_y\":{\"color\":\"#f2f5fa\"},\"marker\":{\"line\":{\"color\":\"rgb(17,17,17)\",\"width\":0.5},\"pattern\":{\"fillmode\":\"overlay\",\"size\":10,\"solidity\":0.2}},\"type\":\"bar\"}],\"carpet\":[{\"aaxis\":{\"endlinecolor\":\"#A2B1C6\",\"gridcolor\":\"#506784\",\"linecolor\":\"#506784\",\"minorgridcolor\":\"#506784\",\"startlinecolor\":\"#A2B1C6\"},\"baxis\":{\"endlinecolor\":\"#A2B1C6\",\"gridcolor\":\"#506784\",\"linecolor\":\"#506784\",\"minorgridcolor\":\"#506784\",\"startlinecolor\":\"#A2B1C6\"},\"type\":\"carpet\"}],\"choropleth\":[{\"colorbar\":{\"outlinewidth\":0,\"ticks\":\"\"},\"type\":\"choropleth\"}],\"contourcarpet\":[{\"colorbar\":{\"outlinewidth\":0,\"ticks\":\"\"},\"type\":\"contourcarpet\"}],\"contour\":[{\"colorbar\":{\"outlinewidth\":0,\"ticks\":\"\"},\"colorscale\":[[0.0,\"#0d0887\"],[0.1111111111111111,\"#46039f\"],[0.2222222222222222,\"#7201a8\"],[0.3333333333333333,\"#9c179e\"],[0.4444444444444444,\"#bd3786\"],[0.5555555555555556,\"#d8576b\"],[0.6666666666666666,\"#ed7953\"],[0.7777777777777778,\"#fb9f3a\"],[0.8888888888888888,\"#fdca26\"],[1.0,\"#f0f921\"]],\"type\":\"contour\"}],\"heatmapgl\":[{\"colorbar\":{\"outlinewidth\":0,\"ticks\":\"\"},\"colorscale\":[[0.0,\"#0d0887\"],[0.1111111111111111,\"#46039f\"],[0.2222222222222222,\"#7201a8\"],[0.3333333333333333,\"#9c179e\"],[0.4444444444444444,\"#bd3786\"],[0.5555555555555556,\"#d8576b\"],[0.6666666666666666,\"#ed7953\"],[0.7777777777777778,\"#fb9f3a\"],[0.8888888888888888,\"#fdca26\"],[1.0,\"#f0f921\"]],\"type\":\"heatmapgl\"}],\"heatmap\":[{\"colorbar\":{\"outlinewidth\":0,\"ticks\":\"\"},\"colorscale\":[[0.0,\"#0d0887\"],[0.1111111111111111,\"#46039f\"],[0.2222222222222222,\"#7201a8\"],[0.3333333333333333,\"#9c179e\"],[0.4444444444444444,\"#bd3786\"],[0.5555555555555556,\"#d8576b\"],[0.6666666666666666,\"#ed7953\"],[0.7777777777777778,\"#fb9f3a\"],[0.8888888888888888,\"#fdca26\"],[1.0,\"#f0f921\"]],\"type\":\"heatmap\"}],\"histogram2dcontour\":[{\"colorbar\":{\"outlinewidth\":0,\"ticks\":\"\"},\"colorscale\":[[0.0,\"#0d0887\"],[0.1111111111111111,\"#46039f\"],[0.2222222222222222,\"#7201a8\"],[0.3333333333333333,\"#9c179e\"],[0.4444444444444444,\"#bd3786\"],[0.5555555555555556,\"#d8576b\"],[0.6666666666666666,\"#ed7953\"],[0.7777777777777778,\"#fb9f3a\"],[0.8888888888888888,\"#fdca26\"],[1.0,\"#f0f921\"]],\"type\":\"histogram2dcontour\"}],\"histogram2d\":[{\"colorbar\":{\"outlinewidth\":0,\"ticks\":\"\"},\"colorscale\":[[0.0,\"#0d0887\"],[0.1111111111111111,\"#46039f\"],[0.2222222222222222,\"#7201a8\"],[0.3333333333333333,\"#9c179e\"],[0.4444444444444444,\"#bd3786\"],[0.5555555555555556,\"#d8576b\"],[0.6666666666666666,\"#ed7953\"],[0.7777777777777778,\"#fb9f3a\"],[0.8888888888888888,\"#fdca26\"],[1.0,\"#f0f921\"]],\"type\":\"histogram2d\"}],\"histogram\":[{\"marker\":{\"pattern\":{\"fillmode\":\"overlay\",\"size\":10,\"solidity\":0.2}},\"type\":\"histogram\"}],\"mesh3d\":[{\"colorbar\":{\"outlinewidth\":0,\"ticks\":\"\"},\"type\":\"mesh3d\"}],\"parcoords\":[{\"line\":{\"colorbar\":{\"outlinewidth\":0,\"ticks\":\"\"}},\"type\":\"parcoords\"}],\"pie\":[{\"automargin\":true,\"type\":\"pie\"}],\"scatter3d\":[{\"line\":{\"colorbar\":{\"outlinewidth\":0,\"ticks\":\"\"}},\"marker\":{\"colorbar\":{\"outlinewidth\":0,\"ticks\":\"\"}},\"type\":\"scatter3d\"}],\"scattercarpet\":[{\"marker\":{\"colorbar\":{\"outlinewidth\":0,\"ticks\":\"\"}},\"type\":\"scattercarpet\"}],\"scattergeo\":[{\"marker\":{\"colorbar\":{\"outlinewidth\":0,\"ticks\":\"\"}},\"type\":\"scattergeo\"}],\"scattergl\":[{\"marker\":{\"line\":{\"color\":\"#283442\"}},\"type\":\"scattergl\"}],\"scattermapbox\":[{\"marker\":{\"colorbar\":{\"outlinewidth\":0,\"ticks\":\"\"}},\"type\":\"scattermapbox\"}],\"scatterpolargl\":[{\"marker\":{\"colorbar\":{\"outlinewidth\":0,\"ticks\":\"\"}},\"type\":\"scatterpolargl\"}],\"scatterpolar\":[{\"marker\":{\"colorbar\":{\"outlinewidth\":0,\"ticks\":\"\"}},\"type\":\"scatterpolar\"}],\"scatter\":[{\"marker\":{\"line\":{\"color\":\"#283442\"}},\"type\":\"scatter\"}],\"scatterternary\":[{\"marker\":{\"colorbar\":{\"outlinewidth\":0,\"ticks\":\"\"}},\"type\":\"scatterternary\"}],\"surface\":[{\"colorbar\":{\"outlinewidth\":0,\"ticks\":\"\"},\"colorscale\":[[0.0,\"#0d0887\"],[0.1111111111111111,\"#46039f\"],[0.2222222222222222,\"#7201a8\"],[0.3333333333333333,\"#9c179e\"],[0.4444444444444444,\"#bd3786\"],[0.5555555555555556,\"#d8576b\"],[0.6666666666666666,\"#ed7953\"],[0.7777777777777778,\"#fb9f3a\"],[0.8888888888888888,\"#fdca26\"],[1.0,\"#f0f921\"]],\"type\":\"surface\"}],\"table\":[{\"cells\":{\"fill\":{\"color\":\"#506784\"},\"line\":{\"color\":\"rgb(17,17,17)\"}},\"header\":{\"fill\":{\"color\":\"#2a3f5f\"},\"line\":{\"color\":\"rgb(17,17,17)\"}},\"type\":\"table\"}]},\"layout\":{\"annotationdefaults\":{\"arrowcolor\":\"#f2f5fa\",\"arrowhead\":0,\"arrowwidth\":1},\"autotypenumbers\":\"strict\",\"coloraxis\":{\"colorbar\":{\"outlinewidth\":0,\"ticks\":\"\"}},\"colorscale\":{\"diverging\":[[0,\"#8e0152\"],[0.1,\"#c51b7d\"],[0.2,\"#de77ae\"],[0.3,\"#f1b6da\"],[0.4,\"#fde0ef\"],[0.5,\"#f7f7f7\"],[0.6,\"#e6f5d0\"],[0.7,\"#b8e186\"],[0.8,\"#7fbc41\"],[0.9,\"#4d9221\"],[1,\"#276419\"]],\"sequential\":[[0.0,\"#0d0887\"],[0.1111111111111111,\"#46039f\"],[0.2222222222222222,\"#7201a8\"],[0.3333333333333333,\"#9c179e\"],[0.4444444444444444,\"#bd3786\"],[0.5555555555555556,\"#d8576b\"],[0.6666666666666666,\"#ed7953\"],[0.7777777777777778,\"#fb9f3a\"],[0.8888888888888888,\"#fdca26\"],[1.0,\"#f0f921\"]],\"sequentialminus\":[[0.0,\"#0d0887\"],[0.1111111111111111,\"#46039f\"],[0.2222222222222222,\"#7201a8\"],[0.3333333333333333,\"#9c179e\"],[0.4444444444444444,\"#bd3786\"],[0.5555555555555556,\"#d8576b\"],[0.6666666666666666,\"#ed7953\"],[0.7777777777777778,\"#fb9f3a\"],[0.8888888888888888,\"#fdca26\"],[1.0,\"#f0f921\"]]},\"colorway\":[\"#636efa\",\"#EF553B\",\"#00cc96\",\"#ab63fa\",\"#FFA15A\",\"#19d3f3\",\"#FF6692\",\"#B6E880\",\"#FF97FF\",\"#FECB52\"],\"font\":{\"color\":\"#f2f5fa\"},\"geo\":{\"bgcolor\":\"rgb(17,17,17)\",\"lakecolor\":\"rgb(17,17,17)\",\"landcolor\":\"rgb(17,17,17)\",\"showlakes\":true,\"showland\":true,\"subunitcolor\":\"#506784\"},\"hoverlabel\":{\"align\":\"left\"},\"hovermode\":\"closest\",\"mapbox\":{\"style\":\"dark\"},\"paper_bgcolor\":\"rgb(17,17,17)\",\"plot_bgcolor\":\"rgb(17,17,17)\",\"polar\":{\"angularaxis\":{\"gridcolor\":\"#506784\",\"linecolor\":\"#506784\",\"ticks\":\"\"},\"bgcolor\":\"rgb(17,17,17)\",\"radialaxis\":{\"gridcolor\":\"#506784\",\"linecolor\":\"#506784\",\"ticks\":\"\"}},\"scene\":{\"xaxis\":{\"backgroundcolor\":\"rgb(17,17,17)\",\"gridcolor\":\"#506784\",\"gridwidth\":2,\"linecolor\":\"#506784\",\"showbackground\":true,\"ticks\":\"\",\"zerolinecolor\":\"#C8D4E3\"},\"yaxis\":{\"backgroundcolor\":\"rgb(17,17,17)\",\"gridcolor\":\"#506784\",\"gridwidth\":2,\"linecolor\":\"#506784\",\"showbackground\":true,\"ticks\":\"\",\"zerolinecolor\":\"#C8D4E3\"},\"zaxis\":{\"backgroundcolor\":\"rgb(17,17,17)\",\"gridcolor\":\"#506784\",\"gridwidth\":2,\"linecolor\":\"#506784\",\"showbackground\":true,\"ticks\":\"\",\"zerolinecolor\":\"#C8D4E3\"}},\"shapedefaults\":{\"line\":{\"color\":\"#f2f5fa\"}},\"sliderdefaults\":{\"bgcolor\":\"#C8D4E3\",\"bordercolor\":\"rgb(17,17,17)\",\"borderwidth\":1,\"tickwidth\":0},\"ternary\":{\"aaxis\":{\"gridcolor\":\"#506784\",\"linecolor\":\"#506784\",\"ticks\":\"\"},\"baxis\":{\"gridcolor\":\"#506784\",\"linecolor\":\"#506784\",\"ticks\":\"\"},\"bgcolor\":\"rgb(17,17,17)\",\"caxis\":{\"gridcolor\":\"#506784\",\"linecolor\":\"#506784\",\"ticks\":\"\"}},\"title\":{\"x\":0.05},\"updatemenudefaults\":{\"bgcolor\":\"#506784\",\"borderwidth\":0},\"xaxis\":{\"automargin\":true,\"gridcolor\":\"#283442\",\"linecolor\":\"#506784\",\"ticks\":\"\",\"title\":{\"standoff\":15},\"zerolinecolor\":\"#283442\",\"zerolinewidth\":2},\"yaxis\":{\"automargin\":true,\"gridcolor\":\"#283442\",\"linecolor\":\"#506784\",\"ticks\":\"\",\"title\":{\"standoff\":15},\"zerolinecolor\":\"#283442\",\"zerolinewidth\":2}}},\"xaxis\":{\"anchor\":\"y\",\"domain\":[0.0,1.0],\"title\":{\"text\":\"Expected Assisted Goals\"}},\"yaxis\":{\"anchor\":\"x\",\"domain\":[0.0,1.0],\"title\":{\"text\":\"Assists\"}},\"legend\":{\"tracegroupgap\":0},\"title\":{\"text\":\"Expected Assisted Goals vs Assists\"},\"shapes\":[{\"line\":{\"color\":\"gray\",\"dash\":\"dot\"},\"type\":\"line\",\"x0\":0.3,\"x1\":16.7,\"y0\":0.3,\"y1\":16.7}]},                        {\"responsive\": true}                    ).then(function(){\n",
              "                            \n",
              "var gd = document.getElementById('d30c5108-47e1-4f3f-8a21-b4db67997c9d');\n",
              "var x = new MutationObserver(function (mutations, observer) {{\n",
              "        var display = window.getComputedStyle(gd).display;\n",
              "        if (!display || display === 'none') {{\n",
              "            console.log([gd, 'removed!']);\n",
              "            Plotly.purge(gd);\n",
              "            observer.disconnect();\n",
              "        }}\n",
              "}});\n",
              "\n",
              "// Listen for the removal of the full notebook cells\n",
              "var notebookContainer = gd.closest('#notebook-container');\n",
              "if (notebookContainer) {{\n",
              "    x.observe(notebookContainer, {childList: true});\n",
              "}}\n",
              "\n",
              "// Listen for the clearing of the current output cell\n",
              "var outputEl = gd.closest('.output');\n",
              "if (outputEl) {{\n",
              "    x.observe(outputEl, {childList: true});\n",
              "}}\n",
              "\n",
              "                        })                };                            </script>        </div>\n",
              "</body>\n",
              "</html>"
            ]
          },
          "metadata": {}
        }
      ]
    },
    {
      "cell_type": "markdown",
      "source": [
        "**Kevin De Bruyne (13.7,16)**: Surrounded by a team full of high quality players (which now includes superhuman Erling Haaland), it is not too surprising that KDB enjoyed more assists than expected.\n",
        "\n",
        "**Bruno Fernandes (16.7,8)**: With 16.7 xAG but just 8 assists, it is ridiculous how unlucky Fernandes has been this season. Had his teammates been more precise in the box, he could have had more than double the assists. Man U needs a striker.\n",
        "\n",
        "**Trent Alexander Arnold (11.5,9), Kieran Trippier (12.4,7)**: As fullbacks responsible for crosses and corner kicks, both naturally have high xAG's. However, below average finishes by teammates means both did not get as many assists as they should (Trippier a bit unluckier).\n",
        "\n",
        "**Mohammed Salah (7.7,12)**: Although Salah has not been as clinical in putting ball in net this season, his teammates are.\n",
        "\n",
        "**Leandro Trossard (4.7,10)**: Like KDB, Trossard has strong teammates capable of turning his passes into goals. Because of players like Saka, Martinelli, and Odegaard, Trossard ended the campaign with over double the assists than expected."
      ],
      "metadata": {
        "id": "VVictvD4X8_H"
      }
    },
    {
      "cell_type": "markdown",
      "source": [
        "## Final thoughts\n",
        "This a a good place to pause. Hopefully you found it somewhat interesting and now see how much a couple metrics (G, A, xG, xAG) can tell us about nuances in attacking productivity. I have some done some team-specific analysis but will share that in a separate document. Thanks for reading and let me know what you think!\n",
        "\n",
        "## Data\n",
        "All data is sourced from <a href='https://fbref.com/en/'>FNREF</a>. I scraped content from the player statistics tables of the 20 Premier League clubs, performed necesssary data transformations, and visualised key metrics into interactive plotly charts. Everything done in Python and by me.\n",
        "\n",
        "## TLDR;\n",
        "* Nelson, Trossard, Viera, Nketiah made good use of limited PL minutes.\n",
        "* Bruno Fernandes needs more luck and a proper striker to finish his passes.\n",
        "* Kane is good.\n",
        "* Martinelli, Saka, and Ødegaard are good.\n",
        "* Haaland is very good."
      ],
      "metadata": {
        "id": "lqSfNVvxt4ug"
      }
    }
  ]
}